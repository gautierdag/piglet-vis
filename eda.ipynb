{
 "cells": [
  {
   "cell_type": "code",
   "execution_count": 1,
   "id": "21263f73",
   "metadata": {},
   "outputs": [],
   "source": [
    "# from piglet.model.interact.dataloader import _decode_record\n",
    "import tensorflow as tf\n",
    "import pandas as pd\n",
    "\n",
    "pd.set_option('display.max_columns', None)\n",
    "\n",
    "IMAGE_HEIGHT = 384\n",
    "IMAGE_WIDTH = 640"
   ]
  },
  {
   "cell_type": "code",
   "execution_count": 2,
   "id": "2bb69b10-aec8-48af-800e-4533b7e8a34a",
   "metadata": {},
   "outputs": [],
   "source": [
    "from PIL import Image\n",
    "\n",
    "def show_image(i, j=0):\n",
    "    img = Image.open(f\"data/{i}/{j}.jpeg\")\n",
    "    display(img)"
   ]
  },
  {
   "cell_type": "code",
   "execution_count": 4,
   "id": "fb609523",
   "metadata": {},
   "outputs": [
    {
     "name": "stdout",
     "output_type": "stream",
     "text": [
      "[('parentReceptacles', 126), ('receptacleObjectIds', 126), ('distance', 8), ('mass', 8), ('size', 8), ('ObjectTemperature', 3), ('breakable', 1), ('cookable', 1), ('dirtyable', 1), ('isBroken', 1), ('isCooked', 1), ('isDirty', 1), ('isFilledWithLiquid', 1), ('isOpen', 1), ('isPickedUp', 1), ('isSliced', 1), ('isToggled', 1), ('isUsedUp', 1), ('moveable', 1), ('openable', 1), ('pickupable', 1), ('receptacle', 1), ('salientMaterials_Ceramic', 1), ('salientMaterials_Fabric', 1), ('salientMaterials_Food', 1), ('salientMaterials_Glass', 1), ('salientMaterials_Leather', 1), ('salientMaterials_Metal', 1), ('salientMaterials_Organic', 1), ('salientMaterials_Paper', 1), ('salientMaterials_Plastic', 1), ('salientMaterials_Rubber', 1), ('salientMaterials_Soap', 1), ('salientMaterials_Sponge', 1), ('salientMaterials_Stone', 1), ('salientMaterials_Wax', 1), ('salientMaterials_Wood', 1), ('sliceable', 1), ('toggleable', 1)]\n"
     ]
    }
   ],
   "source": [
    "from piglet.data.thor_constants import THOR_AFFORDANCES\n",
    "\n",
    "_keys_to_features = {\n",
    "    \"actions/action_args\": tf.io.VarLenFeature(tf.int64),\n",
    "    \"actions/action_id\": tf.io.FixedLenFeature((), tf.int64, 1),\n",
    "    \"actions/action_success\": tf.io.FixedLenFeature((), tf.int64, 1),\n",
    "    \"agent_state\": tf.io.VarLenFeature(tf.float32),\n",
    "    \"comparison_labels\": tf.io.VarLenFeature(tf.int64),\n",
    "    \"meta\": tf.io.FixedLenFeature((), tf.string, default_value=\"\"),\n",
    "    \"objects/ObjectTemperature\": tf.io.VarLenFeature(tf.int64),\n",
    "    \"objects/breakable\": tf.io.VarLenFeature(tf.int64),\n",
    "    \"objects/canBeUsedUp\": tf.io.VarLenFeature(tf.int64),\n",
    "    \"objects/canFillWithLiquid\": tf.io.VarLenFeature(tf.int64),\n",
    "    \"objects/cookable\": tf.io.VarLenFeature(tf.int64),\n",
    "    \"objects/dirtyable\": tf.io.VarLenFeature(tf.int64),\n",
    "    \"objects/distance\": tf.io.VarLenFeature(tf.int64),\n",
    "    \"objects/isBroken\": tf.io.VarLenFeature(tf.int64),\n",
    "    \"objects/isCooked\": tf.io.VarLenFeature(tf.int64),\n",
    "    \"objects/isDirty\": tf.io.VarLenFeature(tf.int64),\n",
    "    \"objects/isFilledWithLiquid\": tf.io.VarLenFeature(tf.int64),\n",
    "    \"objects/isOpen\": tf.io.VarLenFeature(tf.int64),\n",
    "    \"objects/isPickedUp\": tf.io.VarLenFeature(tf.int64),\n",
    "    \"objects/isSliced\": tf.io.VarLenFeature(tf.int64),\n",
    "    \"objects/isToggled\": tf.io.VarLenFeature(tf.int64),\n",
    "    \"objects/isUsedUp\": tf.io.VarLenFeature(tf.int64),\n",
    "    \"objects/mass\": tf.io.VarLenFeature(tf.int64),\n",
    "    \"objects/moveable\": tf.io.VarLenFeature(tf.int64),\n",
    "    \"objects/object_types\": tf.io.VarLenFeature(tf.int64),\n",
    "    \"objects/openable\": tf.io.VarLenFeature(tf.int64),\n",
    "    \"objects/pickupable\": tf.io.VarLenFeature(tf.int64),\n",
    "    \"objects/receptacle\": tf.io.VarLenFeature(tf.int64),\n",
    "    \"objects/parentReceptacles\": tf.io.VarLenFeature(tf.int64),\n",
    "    \"objects/receptacleObjectIds\": tf.io.VarLenFeature(tf.int64),\n",
    "    \"objects/salientMaterials_Ceramic\": tf.io.VarLenFeature(tf.int64),\n",
    "    \"objects/salientMaterials_Fabric\": tf.io.VarLenFeature(tf.int64),\n",
    "    \"objects/salientMaterials_Food\": tf.io.VarLenFeature(tf.int64),\n",
    "    \"objects/salientMaterials_Glass\": tf.io.VarLenFeature(tf.int64),\n",
    "    \"objects/salientMaterials_Leather\": tf.io.VarLenFeature(tf.int64),\n",
    "    \"objects/salientMaterials_Metal\": tf.io.VarLenFeature(tf.int64),\n",
    "    \"objects/salientMaterials_Organic\": tf.io.VarLenFeature(tf.int64),\n",
    "    \"objects/salientMaterials_Paper\": tf.io.VarLenFeature(tf.int64),\n",
    "    \"objects/salientMaterials_Plastic\": tf.io.VarLenFeature(tf.int64),\n",
    "    \"objects/salientMaterials_Rubber\": tf.io.VarLenFeature(tf.int64),\n",
    "    \"objects/salientMaterials_Soap\": tf.io.VarLenFeature(tf.int64),\n",
    "    \"objects/salientMaterials_Sponge\": tf.io.VarLenFeature(tf.int64),\n",
    "    \"objects/salientMaterials_Stone\": tf.io.VarLenFeature(tf.int64),\n",
    "    \"objects/salientMaterials_Wax\": tf.io.VarLenFeature(tf.int64),\n",
    "    \"objects/salientMaterials_Wood\": tf.io.VarLenFeature(tf.int64),\n",
    "    \"objects/size\": tf.io.VarLenFeature(tf.int64),\n",
    "    \"objects/sliceable\": tf.io.VarLenFeature(tf.int64),\n",
    "    \"objects/toggleable\": tf.io.VarLenFeature(tf.int64),\n",
    "    \"frames/encoded\": tf.io.FixedLenFeature((), tf.string, default_value=\"\"),\n",
    "    \"frames/format\": tf.io.FixedLenFeature((), tf.string, default_value=\"\"),\n",
    "    \"frames/height\": tf.io.FixedLenFeature((), tf.int64, 1),\n",
    "    \"frames/key/sha256\": tf.io.FixedLenFeature((), tf.string, default_value=\"\"),\n",
    "    \"frames/num_frames\": tf.io.FixedLenFeature((), tf.int64, 1),\n",
    "    \"frames/width\": tf.io.FixedLenFeature((), tf.int64, 1),\n",
    "    \"is_real_example\": tf.io.FixedLenFeature(\n",
    "        (), tf.int64, 0\n",
    "    ),  # Only needed for the turk stuff\n",
    "    \"ids/pre_act2post\": tf.io.VarLenFeature(tf.int64),  # Only needed for the turk stuff\n",
    "    \"ids/post_act2pre\": tf.io.VarLenFeature(tf.int64),  # Only needed for the turk stuff\n",
    "    \"ids/pre\": tf.io.VarLenFeature(tf.int64),  # Only needed for the turk stuff\n",
    "    \"ids/post\": tf.io.VarLenFeature(tf.int64),  # Only needed for the turk stuff\n",
    "    \"ids/_extrasignal\": tf.io.VarLenFeature(tf.int64),  # Only needed for the turk stuff\n",
    "}\n",
    "\n",
    "names_and_arities = []\n",
    "for name_i, arity_i, _ in THOR_AFFORDANCES:\n",
    "    if f\"objects/{name_i}\" in _keys_to_features.keys():\n",
    "        if not name_i in (\"canFillWithLiquid\", \"canBeUsedUp\"):\n",
    "            names_and_arities.append((name_i, arity_i))\n",
    "names_and_arities = sorted(names_and_arities, key=lambda x: (-x[1], x[0]))\n",
    "print(names_and_arities)"
   ]
  },
  {
   "cell_type": "code",
   "execution_count": 5,
   "id": "903d3c10",
   "metadata": {},
   "outputs": [],
   "source": [
    "import tf_slim as slim\n",
    "\n",
    "slim_example_decoder = slim.tfexample_decoder\n",
    "\n",
    "# # Handle the image things separately\n",
    "_items_to_handlers = {\n",
    "    k: (slim_example_decoder.Tensor(k)) for k in _keys_to_features.keys()\n",
    "}\n",
    "\n",
    "_items_to_handlers[\"frames\"] = slim_example_decoder.Image(\n",
    "    image_key=f\"frames/encoded\", format_key=f\"frames/format\", channels=3\n",
    ")"
   ]
  },
  {
   "cell_type": "code",
   "execution_count": 6,
   "id": "bdd8b26c",
   "metadata": {},
   "outputs": [],
   "source": [
    "def _decode_record(record):\n",
    "    \"\"\"Decodes serialized tensorflow example and returns a tensor dictionary. See keys_to_features for arguments\"\"\"\n",
    "    serialized_example = tf.reshape(record, shape=[])\n",
    "\n",
    "    decoder = slim_example_decoder.TFExampleDecoder(_keys_to_features, _items_to_handlers)\n",
    "    keys = sorted(decoder.list_items())\n",
    "\n",
    "    tensors = decoder.decode(serialized_example, items=keys)\n",
    "    tensor_dict = dict(zip(keys, tensors))\n",
    "\n",
    "    # if use_vision:\n",
    "    tensor_dict[\"frames\"] = tf.reshape(\n",
    "        tensor_dict[\"frames\"], [-1, IMAGE_HEIGHT, IMAGE_WIDTH, 3]\n",
    "    )\n",
    "\n",
    "    for k in tensor_dict:\n",
    "        if tensor_dict[k].dtype == tf.int64:\n",
    "            tensor_dict[k] = tf.cast(tensor_dict[k], tf.int32)\n",
    "\n",
    "    return tensor_dict"
   ]
  },
  {
   "cell_type": "code",
   "execution_count": 21,
   "id": "825aedee",
   "metadata": {},
   "outputs": [],
   "source": [
    "from piglet.model.model_utils import get_shape_list, encode_string, normalize_image\n",
    "from piglet.model.model_utils import pad_to_fixed_size as p2fsz\n",
    "import json\n",
    "\n",
    "def _dataset_parser(\n",
    "    value,\n",
    "    NUM_OBJECTS=4,\n",
    "    max_lang_seq_length=64,\n",
    "):\n",
    "    \"\"\"\n",
    "\n",
    "    :param value: TFRecord to decode\n",
    "    :param is_training:\n",
    "    :return:\n",
    "    \"\"\"\n",
    "    with tf.name_scope(\"parser\"):\n",
    "        data = _decode_record(value)\n",
    "        features = {\n",
    "            \"meta\": data[\"meta\"],\n",
    "            \"actions/action_id\": data[\"actions/action_id\"],\n",
    "            \"actions/action_success\": data[\"actions/action_success\"],\n",
    "            \"actions/action_args\": p2fsz(\n",
    "                data[\"actions/action_args\"],\n",
    "                pad_value=0,\n",
    "                output_shape=[NUM_OBJECTS // 2],\n",
    "                axis=0,\n",
    "                truncate=True,\n",
    "            ),\n",
    "            \"agent_state\": p2fsz(\n",
    "                data[\"agent_state\"],\n",
    "                pad_value=0,\n",
    "                output_shape=[6],\n",
    "                axis=0,\n",
    "                truncate=True,\n",
    "            ),\n",
    "        }\n",
    "        features[\"frames/frames\"] = data[\"frames\"]\n",
    "\n",
    "        # Object states -------------------------------------------------\n",
    "        features[\"objects/object_types\"] = p2fsz(\n",
    "            data[\"objects/object_types\"],\n",
    "            pad_value=0,\n",
    "            output_shape=[NUM_OBJECTS],\n",
    "            axis=0,\n",
    "            truncate=True,\n",
    "        )\n",
    "        features[\"objects/is_valid\"] = tf.cast(\n",
    "            tf.greater(features[\"objects/object_types\"], 0), dtype=tf.int32\n",
    "        )\n",
    "\n",
    "        # [o1   o1    o2   o2  ]\n",
    "        # [pre, post, pre, post]\n",
    "        obj_states = []\n",
    "        for name_i, arity_i in names_and_arities:\n",
    "            print(f\"{name_i:>40s} {arity_i}\")\n",
    "\n",
    "            with tf.name_scope(f\"convert_{name_i}\"):\n",
    "                raw = p2fsz(\n",
    "                    data[f\"objects/{name_i}\"],\n",
    "                    pad_value=0,\n",
    "                    output_shape=[NUM_OBJECTS],\n",
    "                    axis=0,\n",
    "                    truncate=True,\n",
    "                )\n",
    "                obj_states.append(raw)\n",
    "\n",
    "        # [num_objs, num_obj_states]\n",
    "        obj_states = tf.stack(obj_states, 1)\n",
    "\n",
    "        features[\"objects/object_states\"] = obj_states\n",
    "\n",
    "        print(\"Feature summary!\")\n",
    "        for k, v in sorted(features.items(), key=lambda x: x[0]):\n",
    "            print(\"{}: {}\".format(k, get_shape_list(v)))\n",
    "\n",
    "        return features"
   ]
  },
  {
   "cell_type": "code",
   "execution_count": 22,
   "id": "f5afa001",
   "metadata": {},
   "outputs": [],
   "source": [
    "import glob\n",
    "\n",
    "train = glob.glob(\"physical-interaction-tfrecords/train-*\")\n",
    "val = glob.glob(\"physical-interaction-tfrecords/val-*\")"
   ]
  },
  {
   "cell_type": "code",
   "execution_count": 23,
   "id": "baeb4917",
   "metadata": {},
   "outputs": [
    {
     "name": "stdout",
     "output_type": "stream",
     "text": [
      "                       parentReceptacles 126\n",
      "                     receptacleObjectIds 126\n",
      "                                distance 8\n",
      "                                    mass 8\n",
      "                                    size 8\n",
      "                       ObjectTemperature 3\n",
      "                               breakable 1\n",
      "                                cookable 1\n",
      "                               dirtyable 1\n",
      "                                isBroken 1\n",
      "                                isCooked 1\n",
      "                                 isDirty 1\n",
      "                      isFilledWithLiquid 1\n",
      "                                  isOpen 1\n",
      "                              isPickedUp 1\n",
      "                                isSliced 1\n",
      "                               isToggled 1\n",
      "                                isUsedUp 1\n",
      "                                moveable 1\n",
      "                                openable 1\n",
      "                              pickupable 1\n",
      "                              receptacle 1\n",
      "                salientMaterials_Ceramic 1\n",
      "                 salientMaterials_Fabric 1\n",
      "                   salientMaterials_Food 1\n",
      "                  salientMaterials_Glass 1\n",
      "                salientMaterials_Leather 1\n",
      "                  salientMaterials_Metal 1\n",
      "                salientMaterials_Organic 1\n",
      "                  salientMaterials_Paper 1\n",
      "                salientMaterials_Plastic 1\n",
      "                 salientMaterials_Rubber 1\n",
      "                   salientMaterials_Soap 1\n",
      "                 salientMaterials_Sponge 1\n",
      "                  salientMaterials_Stone 1\n",
      "                    salientMaterials_Wax 1\n",
      "                   salientMaterials_Wood 1\n",
      "                               sliceable 1\n",
      "                              toggleable 1\n",
      "Feature summary!\n",
      "actions/action_args: [2]\n",
      "actions/action_id: []\n",
      "actions/action_success: []\n",
      "agent_state: [6]\n",
      "frames/frames: [<tf.Tensor 'parser/strided_slice:0' shape=() dtype=int32>, 384, 640, 3]\n",
      "meta: []\n",
      "objects/is_valid: [4]\n",
      "objects/object_states: [4, 39]\n",
      "objects/object_types: [4]\n",
      "                       parentReceptacles 126\n",
      "                     receptacleObjectIds 126\n",
      "                                distance 8\n",
      "                                    mass 8\n",
      "                                    size 8\n",
      "                       ObjectTemperature 3\n",
      "                               breakable 1\n",
      "                                cookable 1\n",
      "                               dirtyable 1\n",
      "                                isBroken 1\n",
      "                                isCooked 1\n",
      "                                 isDirty 1\n",
      "                      isFilledWithLiquid 1\n",
      "                                  isOpen 1\n",
      "                              isPickedUp 1\n",
      "                                isSliced 1\n",
      "                               isToggled 1\n",
      "                                isUsedUp 1\n",
      "                                moveable 1\n",
      "                                openable 1\n",
      "                              pickupable 1\n",
      "                              receptacle 1\n",
      "                salientMaterials_Ceramic 1\n",
      "                 salientMaterials_Fabric 1\n",
      "                   salientMaterials_Food 1\n",
      "                  salientMaterials_Glass 1\n",
      "                salientMaterials_Leather 1\n",
      "                  salientMaterials_Metal 1\n",
      "                salientMaterials_Organic 1\n",
      "                  salientMaterials_Paper 1\n",
      "                salientMaterials_Plastic 1\n",
      "                 salientMaterials_Rubber 1\n",
      "                   salientMaterials_Soap 1\n",
      "                 salientMaterials_Sponge 1\n",
      "                  salientMaterials_Stone 1\n",
      "                    salientMaterials_Wax 1\n",
      "                   salientMaterials_Wood 1\n",
      "                               sliceable 1\n",
      "                              toggleable 1\n",
      "Feature summary!\n",
      "actions/action_args: [2]\n",
      "actions/action_id: []\n",
      "actions/action_success: []\n",
      "agent_state: [6]\n",
      "frames/frames: [<tf.Tensor 'parser/strided_slice:0' shape=() dtype=int32>, 384, 640, 3]\n",
      "meta: []\n",
      "objects/is_valid: [4]\n",
      "objects/object_states: [4, 39]\n",
      "objects/object_types: [4]\n"
     ]
    }
   ],
   "source": [
    "train_dataset = tf.data.TFRecordDataset(\n",
    "    train, compression_type=None, buffer_size=None, num_parallel_reads=None\n",
    ")\n",
    "\n",
    "decoded_train = train_dataset.map(\n",
    "    lambda x: _dataset_parser(\n",
    "        x, max_lang_seq_length=64\n",
    "    )\n",
    ")\n",
    "\n",
    "\n",
    "val_dataset = tf.data.TFRecordDataset(\n",
    "    val, compression_type=None, buffer_size=None, num_parallel_reads=None\n",
    ")\n",
    "\n",
    "decoded_val = val_dataset.map(\n",
    "    lambda x: _dataset_parser(\n",
    "        x, max_lang_seq_length=64\n",
    "    )\n",
    ")"
   ]
  },
  {
   "cell_type": "markdown",
   "id": "5462250b-e97b-4507-852d-b5b69dba9cc2",
   "metadata": {},
   "source": [
    "# Save dataset as images and csv"
   ]
  },
  {
   "cell_type": "markdown",
   "id": "4f882132-7ce7-4f50-bbdb-08d40c54c1d8",
   "metadata": {},
   "source": [
    "## Training set"
   ]
  },
  {
   "cell_type": "code",
   "execution_count": 26,
   "id": "4d18b32a-b0d4-46a0-967d-ef85edc6e560",
   "metadata": {},
   "outputs": [
    {
     "name": "stderr",
     "output_type": "stream",
     "text": [
      "100%|█████████████████████████████████████████████████████████| 278009/278009 [51:00<00:00, 90.84it/s]\n"
     ]
    }
   ],
   "source": [
    "import os\n",
    "from PIL import Image\n",
    "from piglet.data.thor_constants import numpy_to_instance\n",
    "import pandas as pd \n",
    "from tqdm import tqdm\n",
    "\n",
    "instances = []\n",
    "i = 0 \n",
    "for element in tqdm(decoded_train.as_numpy_iterator(), total=278009):\n",
    "    # continue # uncomment to run \n",
    "#     instance, post_instance = numpy_to_instance(element, add_post_conditions=True)\n",
    "#     for k, v in post_instance.items():\n",
    "#         instance[f\"post_{k}\"] = v\n",
    "        \n",
    "#     elem_meta = json.loads(element[\"meta\"])\n",
    "#     instance[\"id\"] = elem_meta[\"fn\"].split(\"/\")[-1].split(\".\")[0]\n",
    "#     instance[\"text\"] = elem_meta[\"text\"]\n",
    "    \n",
    "#     diff = abs((element[\"frames/frames\"][0]/255) - (element[\"frames/frames\"][1]/255))\n",
    "#     max_change = diff.max()\n",
    "#     num_change = (diff > 0).sum()\n",
    "#     instance[\"max_change\"] = max_change\n",
    "#     instance[\"num_change\"] = num_change\n",
    "        \n",
    "#     instance[\"action_success\"] = element[\"actions/action_success\"] \n",
    "#     instances.append(instance)\n",
    "    \n",
    "    # os.mkdir(f\"data/train\", exists=)\n",
    "    for j in [0,1]:\n",
    "        im = Image.fromarray(element[\"frames/frames\"][j])\n",
    "        im.save(f\"data/train/{i}_{j}.jpeg\")\n",
    "        \n",
    "    i+=1\n",
    "\n",
    "# df = pd.DataFrame(instances)\n",
    "# df.to_csv(\"piglet_train.csv\", index=False)"
   ]
  },
  {
   "cell_type": "markdown",
   "id": "edf94628-464a-459c-bbe6-4770424665aa",
   "metadata": {},
   "source": [
    "## Validation set"
   ]
  },
  {
   "cell_type": "code",
   "execution_count": 25,
   "id": "24792279-91ae-4b8a-948e-6d762e9b1a5e",
   "metadata": {},
   "outputs": [
    {
     "name": "stderr",
     "output_type": "stream",
     "text": [
      " 97%|█████████████████████████████████████████████████████████▏ | 32042/33042 [05:53<00:11, 90.66it/s]\n"
     ]
    }
   ],
   "source": [
    "import os\n",
    "from PIL import Image\n",
    "from piglet.data.thor_constants import numpy_to_instance\n",
    "import pandas as pd \n",
    "from tqdm import tqdm\n",
    "\n",
    "# instances = []\n",
    "i = 0 \n",
    "for element in tqdm(decoded_val.as_numpy_iterator(), total=33042):\n",
    "    # continue # comment to run \n",
    "    # instance, post_instance = numpy_to_instance(element, add_post_conditions=True)\n",
    "    # for k, v in post_instance.items():\n",
    "    #     instance[f\"post_{k}\"] = v\n",
    "        \n",
    "#     elem_meta = json.loads(element[\"meta\"])\n",
    "#     instance[\"id\"] = elem_meta[\"fn\"].split(\"/\")[-1].split(\".\")[0]\n",
    "#     instance[\"text\"] = elem_meta[\"text\"]\n",
    "    \n",
    "#     diff = abs((element[\"frames/frames\"][0]/255) - (element[\"frames/frames\"][1]/255))\n",
    "#     max_change = diff.max()\n",
    "#     num_change = (diff > 0).sum()\n",
    "#     instance[\"max_change\"] = max_change\n",
    "#     instance[\"num_change\"] = num_change\n",
    "        \n",
    "#     instance[\"action_success\"] = element[\"actions/action_success\"] \n",
    "#     instances.append(instance)\n",
    "    \n",
    "    # os.mkdir(f\"data/val/{i}\")\n",
    "    for j in [0,1]:\n",
    "        im = Image.fromarray(element[\"frames/frames\"][j])\n",
    "        im.save(f\"data/val/{i}_{j}.jpeg\")\n",
    "        \n",
    "    i+=1\n",
    "\n",
    "# df_val = pd.DataFrame(instances)\n",
    "# df.to_csv(\"piglet_val.csv\", index=False)"
   ]
  },
  {
   "cell_type": "markdown",
   "id": "0e48da23-cf6a-4fc6-ab85-d890cbe2ca44",
   "metadata": {},
   "source": [
    "## Process annotated set from jsonlines file"
   ]
  },
  {
   "cell_type": "code",
   "execution_count": 33,
   "id": "1830a545-d60c-461d-90ab-f7838ca606dd",
   "metadata": {},
   "outputs": [
    {
     "name": "stderr",
     "output_type": "stream",
     "text": [
      "100%|█████████████████████████████████████████████████████████████████████████████████████████████████████████████████████████████████████████████████████████████████| 2000/2000 [00:00<00:00, 8677.17it/s]\n"
     ]
    },
    {
     "data": {
      "text/plain": [
       "2000"
      ]
     },
     "execution_count": 33,
     "metadata": {},
     "output_type": "execute_result"
    }
   ],
   "source": [
    "import jsonlines\n",
    "import json\n",
    "from copy import deepcopy\n",
    "from PIL import Image\n",
    "import os\n",
    "from pathlib import Path\n",
    "\n",
    "annotated_dataset = []\n",
    "with jsonlines.open(\"piglet/data/annotations.jsonl\") as reader:\n",
    "    for i, obj in tqdm(enumerate(reader), total=2000):\n",
    "        # continue # comment out to run below\n",
    "        instance = deepcopy(obj[\"pre\"])\n",
    "#         for k, v in obj[\"post\"].items():\n",
    "#             instance[f\"post_{k}\"] = v            \n",
    "\n",
    "#         instance[\"original_zero_shot\"] = obj[\"is_zs\"]\n",
    "#         instance[\"text\"] = obj[\"meta\"][\"text\"]\n",
    "#         split = obj[\"split\"]\n",
    "#         instance[\"split\"] = split\n",
    "        \n",
    "#         file_path = f\"data/mturk/{obj['slug']}\"\n",
    "#         Path(f\"data/annotated/{split}/{i}\").mkdir(parents=True, exist_ok=True)\n",
    "\n",
    "#         frames = []\n",
    "#         for j in [0,1]:\n",
    "#             img_path = f\"{file_path}/img{j}.jpg\"        \n",
    "#             im = Image.open(img_path)\n",
    "#             frames.append(np.asarray(im)/255)\n",
    "#             im.save(f\"data/annotated/{split}/{i}/{j}.jpeg\")\n",
    "            \n",
    "#         diff = abs(frames[0] - frames[1])\n",
    "#         max_change = diff.max()\n",
    "#         num_change = (diff > 0).sum()\n",
    "#         instance[\"max_change\"] = max_change\n",
    "#         instance[\"num_change\"] = num_change\n",
    "            \n",
    "#         for k in [\"precondition_language\", \"action_language\", \"postcondition_language\"]:\n",
    "#             instance[f\"annotator0_{k}\"] = obj[\"annot\"][k]\n",
    "#             instance[f\"annotator1_{k}\"] = obj[\"extra_annot0\"][k]\n",
    "#             instance[f\"annotator2_{k}\"] = obj[\"extra_annot1\"][k]\n",
    "            \n",
    "        annotated_dataset.append(instance)\n",
    "        \n",
    "len(annotated_dataset)\n",
    "\n",
    "# annotated_dataset = pd.DataFrame(annotated_dataset)\n",
    "# annotated_dataset[\"index\"] = annotated_dataset.index\n",
    "# annotated_dataset.to_csv(\"annotated.csv\", index=False)"
   ]
  },
  {
   "cell_type": "code",
   "execution_count": 43,
   "id": "86b2151a-f2b1-4d3e-b292-ba3999df9813",
   "metadata": {},
   "outputs": [
    {
     "data": {
      "text/plain": [
       "1586"
      ]
     },
     "execution_count": 43,
     "metadata": {},
     "output_type": "execute_result"
    }
   ],
   "source": [
    "# glob.glob(\"data/annotated/*\")\n",
    "import numpy as np\n",
    "a = np.load('data/annotated/objects_test.npy')\n",
    "b = np.load('data/annotated/objects_train.npy')\n",
    "c = np.load('data/annotated/objects_val.npy')\n",
    "\n",
    "a.shape[0] + b.shape[0] + c.shape[0]"
   ]
  },
  {
   "cell_type": "markdown",
   "id": "2d96f115-7416-463b-b2bd-8549cd3b0215",
   "metadata": {},
   "source": [
    "# Analyse image statistics"
   ]
  },
  {
   "cell_type": "code",
   "execution_count": null,
   "id": "3b1b5eda-907d-4fbc-8e97-d4186d0ba1e7",
   "metadata": {},
   "outputs": [],
   "source": [
    "import pandas as pd\n",
    "df = pd.read_csv(\"piglet.csv\")"
   ]
  },
  {
   "cell_type": "code",
   "execution_count": null,
   "id": "1ff2ff09-1aa0-4ed7-9f54-251cac51e141",
   "metadata": {},
   "outputs": [],
   "source": [
    "import seaborn as sns\n",
    "import matplotlib.pyplot as plt\n",
    "\n",
    "sns.displot(data=df, x=\"max_change\")\n",
    "plt.show()\n",
    "sns.displot(data=df, x=\"num_change\")\n",
    "sns.displot(data=df, x=\"num_change\", y=\"max_change\")\n",
    "plt.show()"
   ]
  },
  {
   "cell_type": "code",
   "execution_count": 22,
   "id": "f2927f93",
   "metadata": {},
   "outputs": [],
   "source": [
    "df = train_df"
   ]
  },
  {
   "cell_type": "code",
   "execution_count": 23,
   "id": "658de98d-a27b-4f91-bf90-7af33279d1b1",
   "metadata": {},
   "outputs": [
    {
     "name": "stdout",
     "output_type": "stream",
     "text": [
      "0.0780909970540522\n"
     ]
    }
   ],
   "source": [
    "print(len(df[df[\"max_change\"] <= 0.2]) / len(df))\n",
    "# print(len(df[df[\"num_change\"] > 400000]) / len(df))\n",
    "# print(len(df[(df[\"num_change\"] > 400000)|(df[\"max_change\"] <= 0.2)]) / len(df))"
   ]
  },
  {
   "cell_type": "code",
   "execution_count": 27,
   "id": "0cc7a4df",
   "metadata": {},
   "outputs": [
    {
     "data": {
      "text/plain": [
       "ToggleObjectOn           10898\n",
       "EmptyLiquidFromObject     2924\n",
       "ToggleObjectOff           2717\n",
       "HeatUpPan                 2254\n",
       "DirtyObject               1851\n",
       "SliceObject                801\n",
       "OpenObject                  84\n",
       "PickupObject                83\n",
       "PutObject                   70\n",
       "CloseObject                 28\n",
       "Name: Action0, dtype: int64"
      ]
     },
     "execution_count": 27,
     "metadata": {},
     "output_type": "execute_result"
    }
   ],
   "source": [
    "df[df[\"max_change\"] <= 0.2].Action0.value_counts()"
   ]
  },
  {
   "cell_type": "code",
   "execution_count": null,
   "id": "f354f49a-a431-4429-9a3d-937f23455cd6",
   "metadata": {},
   "outputs": [],
   "source": [
    "from matplotlib.pyplot import figure\n",
    "import seaborn as sns\n",
    "\n",
    "df[\"outlier\"] = 0\n",
    "df.loc[(df[\"num_change\"] > 400000)|(df[\"max_change\"] <= 0.2), \"outlier\"] = 1\n",
    "df[\"outlier\"] = df[\"outlier\"].astype(\"category\")\n",
    "df[\"Action0\"] = df[\"Action0\"].astype(\"category\")"
   ]
  },
  {
   "cell_type": "code",
   "execution_count": null,
   "id": "832bec85-03cb-4fb4-8b74-f1e72f2666e8",
   "metadata": {},
   "outputs": [],
   "source": [
    "p = sns.displot(data=df, x=\"Action0\", hue=\"outlier\")\n",
    "plt.gcf().set_size_inches(30, 20)\n",
    "plt.show()"
   ]
  },
  {
   "cell_type": "markdown",
   "id": "b33c2e25-1330-44d8-b172-3db8dc301f5d",
   "metadata": {},
   "source": [
    "## Clean outliers from train/val/annotated datasets"
   ]
  },
  {
   "cell_type": "code",
   "execution_count": 9,
   "id": "1879843c-a8a1-4eea-b0b3-47c770d7268b",
   "metadata": {},
   "outputs": [],
   "source": [
    "import pandas as pd\n",
    "# Get datasets\n",
    "train_df = pd.read_csv(\"piglet_train.csv\")\n",
    "val_df = pd.read_csv(\"piglet_val.csv\")\n",
    "annotated_df = pd.read_csv(\"annotated.csv\",  lineterminator='\\n')"
   ]
  },
  {
   "cell_type": "code",
   "execution_count": 10,
   "id": "e13ff9a8-7987-4455-b998-ebbbbaeb5b49",
   "metadata": {},
   "outputs": [],
   "source": [
    "# train_df.action_success.value_counts()"
   ]
  },
  {
   "cell_type": "code",
   "execution_count": 11,
   "id": "0ecc90b6-0c1f-41b7-ae09-54c78968c404",
   "metadata": {},
   "outputs": [],
   "source": [
    "def exclude_outliers(df):\n",
    "    # label outliers that match a certain filter\n",
    "    # df[\"outlier\"] = 0\n",
    "    # df.loc[(df[\"num_change\"] > 400000)|(df[\"max_change\"] <= 0.2), \"outlier\"] = 1\n",
    "    # df[\"outlier\"] = df[\"outlier\"].astype(\"category\")\n",
    "    # exclude useless columns (always False)\n",
    "    df.drop(columns=['isUsedUp0', 'isUsedUp1', 'post_isUsedUp0', 'post_isUsedUp1', \n",
    "                      'post_salientMaterials_Organic0', 'post_salientMaterials_Organic1', \n",
    "                     'salientMaterials_Organic0', 'salientMaterials_Organic1'], inplace=True)\n",
    "    # select non-outliers\n",
    "    # if \"action_success\" in set(df.columns.values):\n",
    "        # return df[(df.outlier == 0)&(df[\"action_success\"] == 1)].copy()\n",
    "    # return df[df.outlier == 0].copy()\n",
    "    return df\n",
    "\n",
    "clean_train_df = exclude_outliers(train_df)\n",
    "clean_train_df[\"index\"] = clean_train_df.index\n",
    "clean_train_df[\"train\"] = 1\n",
    "\n",
    "# select non-outliers and exclude useless columns (allways False)\n",
    "clean_val_df = exclude_outliers(val_df)\n",
    "clean_val_df[\"index\"] = clean_val_df.index\n",
    "clean_val_df[\"train\"] = 0\n",
    "\n",
    "# select non-outliers and exclude useless columns (allways False)\n",
    "clean_annotated_df = exclude_outliers(annotated_df)"
   ]
  },
  {
   "cell_type": "code",
   "execution_count": 12,
   "id": "195950f6",
   "metadata": {},
   "outputs": [],
   "source": [
    "# clean_train_df.to_csv(\"piglet_clean_train.csv\", index=False)\n",
    "# clean_val_df.to_csv(\"piglet_clean_val.csv\", index=False)\n",
    "# clean_annotated_df.to_csv(\"annotated_clean.csv\", index=False)"
   ]
  },
  {
   "cell_type": "markdown",
   "id": "d9a31fc4-8b8c-44b3-9d07-995ccfc428f8",
   "metadata": {},
   "source": [
    "## Preprocess dataset\n",
    "\n",
    "We preprocess the dataset to vectorise the object and action attributes into two separate vectors for each respective dataset (train and validationdf)"
   ]
  },
  {
   "cell_type": "code",
   "execution_count": 13,
   "id": "8f0887a8-117c-4460-b3de-2672e9557fd5",
   "metadata": {},
   "outputs": [
    {
     "data": {
      "text/plain": [
       "38"
      ]
     },
     "execution_count": 13,
     "metadata": {},
     "output_type": "execute_result"
    }
   ],
   "source": [
    "# column names relevant to objects\n",
    "names = [\n",
    "         'ObjectName',\n",
    "         'parentReceptacles',\n",
    "         'receptacleObjectIds',\n",
    "         'distance',\n",
    "         'mass',\n",
    "         'size',\n",
    "         'ObjectTemperature',\n",
    "         'breakable',\n",
    "         'cookable',\n",
    "         'dirtyable',\n",
    "         'isBroken',\n",
    "         'isCooked',\n",
    "         'isDirty',\n",
    "         'isFilledWithLiquid',\n",
    "         'isOpen',\n",
    "         'isPickedUp',\n",
    "         'isSliced',\n",
    "         'isToggled',\n",
    "         'moveable',\n",
    "         'openable',\n",
    "         'pickupable',\n",
    "         'receptacle',\n",
    "         'salientMaterials_Ceramic',\n",
    "         'salientMaterials_Fabric',\n",
    "         'salientMaterials_Food',\n",
    "         'salientMaterials_Glass',\n",
    "         'salientMaterials_Leather',\n",
    "         'salientMaterials_Metal',\n",
    "         'salientMaterials_Paper',\n",
    "         'salientMaterials_Plastic',\n",
    "         'salientMaterials_Rubber',\n",
    "         'salientMaterials_Soap',\n",
    "         'salientMaterials_Sponge',\n",
    "         'salientMaterials_Stone',\n",
    "         'salientMaterials_Wax',\n",
    "         'salientMaterials_Wood',\n",
    "         'sliceable',\n",
    "         'toggleable']\n",
    "len(names)"
   ]
  },
  {
   "cell_type": "code",
   "execution_count": 14,
   "id": "5a7a8646-db4d-4a51-b03b-c18bdedc4cb0",
   "metadata": {},
   "outputs": [
    {
     "data": {
      "text/plain": [
       "{'Action0',\n",
       " 'ActionObject0',\n",
       " 'ActionReceptacle0',\n",
       " 'action_success',\n",
       " 'id',\n",
       " 'index',\n",
       " 'is_real_example',\n",
       " 'max_change',\n",
       " 'num_change',\n",
       " 'text',\n",
       " 'train'}"
      ]
     },
     "execution_count": 14,
     "metadata": {},
     "output_type": "execute_result"
    }
   ],
   "source": [
    "# train_df = pd.read_csv(\"piglet_clean_train.csv\")\n",
    "# train_df.columns\n",
    "full_names = []\n",
    "for n in names:\n",
    "    obj0 = f\"{n}0\"\n",
    "    obj1 = f\"{n}1\"\n",
    "    obj0_post = f\"post_{n}0\"\n",
    "    obj1_post = f\"post_{n}1\"\n",
    "    full_names.append(obj0)\n",
    "    full_names.append(obj1)\n",
    "    full_names.append(obj0_post)\n",
    "    full_names.append(obj1_post)\n",
    "    \n",
    "set(train_df.columns) - set(full_names)"
   ]
  },
  {
   "cell_type": "code",
   "execution_count": 15,
   "id": "a0b54788-f6e8-4afc-b5a1-4523fc2f7f3c",
   "metadata": {},
   "outputs": [],
   "source": [
    "# train_df = pd.read_csv(\"piglet_clean_train.csv\")\n",
    "# val_df = pd.read_csv(\"piglet_clean_val.csv\")\n",
    "# annotated_df = pd.read_csv(\"annotated_clean.csv\",  lineterminator='\\n')\n",
    "\n",
    "df = pd.concat([clean_train_df, clean_val_df, clean_annotated_df])\n",
    "\n",
    "# Action Arguments need to be the actual objects rather than the Object1/Object2\n",
    "df[\"ActionObject\"] = \"None\"\n",
    "df.loc[df.ActionObject0 == \"Object1\", \"ActionObject\"] = df.loc[df.ActionObject0 == \"Object1\", \"ObjectName0\"]\n",
    "df.loc[df.ActionObject0 == \"Object2\", \"ActionObject\"] = df.loc[df.ActionObject0 == \"Object2\", \"ObjectName1\"]\n",
    "\n",
    "df[\"ActionReceptacle\"] = \"None\"\n",
    "df.loc[df.ActionReceptacle0 == \"Object1\", \"ActionReceptacle\"] = df.loc[df.ActionReceptacle0 == \"Object1\", \"ObjectName0\"]\n",
    "df.loc[df.ActionReceptacle0 == \"Object2\", \"ActionReceptacle\"] = df.loc[df.ActionReceptacle0 == \"Object2\", \"ObjectName1\"]\n",
    "\n",
    "# add temporary useless columns to simplify code later\n",
    "df[\"ObjectName0_post\"] = df[\"ObjectName0\"]\n",
    "df[\"ObjectName1_post\"] = df[\"ObjectName1\"]"
   ]
  },
  {
   "cell_type": "code",
   "execution_count": 16,
   "id": "5680afdb-b6f1-4d6b-99a7-3fd087431c5d",
   "metadata": {},
   "outputs": [],
   "source": [
    "# double checking that certain attributes like temperature don't appear as the only change\n",
    "change_obj0 = (df[[f\"post_{c}0\" for c in names]].values != df[[f\"{c}0\" for c in names]].values)\n",
    "change_obj1 = (df[[f\"post_{c}1\" for c in names]].values != df[[f\"{c}1\" for c in names]].values)\n",
    "\n",
    "change_obj0_sum = change_obj0.sum(0)\n",
    "change_obj1_sum = change_obj1.sum(0)\n",
    "\n",
    "nochange_0 = (change_obj0.sum(1) == 0)\n",
    "nochange_1 = (change_obj1.sum(1) == 0)"
   ]
  },
  {
   "cell_type": "code",
   "execution_count": 17,
   "id": "0d355dd7-7927-4286-b7d1-a2ca85736afe",
   "metadata": {},
   "outputs": [
    {
     "name": "stdout",
     "output_type": "stream",
     "text": [
      "16\n",
      "11\n"
     ]
    }
   ],
   "source": [
    "# @NOTE Should we remove temperature altogether?\n",
    "temp_obj0_only = ((change_obj0[:,:6].sum(1)+change_obj0[:,7:].sum(1) == 0)*(change_obj0[:,6]))\n",
    "temp_obj1_only = ((change_obj1[:,:6].sum(1)+change_obj1[:,7:].sum(1) == 0)*(change_obj1[:,6]))\n",
    "\n",
    "# apparently no example where temperature change is the only change\n",
    "print((temp_obj0_only * nochange_1).sum())\n",
    "print((temp_obj1_only * nochange_0).sum())"
   ]
  },
  {
   "cell_type": "code",
   "execution_count": 18,
   "id": "ddbe9971-52fa-4a73-8e2c-29b1ab15a5e3",
   "metadata": {},
   "outputs": [
    {
     "name": "stderr",
     "output_type": "stream",
     "text": [
      "100%|██████████| 38/38 [00:31<00:00,  1.19it/s]\n"
     ]
    }
   ],
   "source": [
    "from tqdm import tqdm\n",
    "\n",
    "cols = set(df.columns)\n",
    "obj0_attributes_pre = []\n",
    "obj1_attributes_pre = []\n",
    "obj0_attributes_post = []\n",
    "obj1_attributes_post = []\n",
    "\n",
    "object_mapper = {}\n",
    "reverse_object_mapper = {}\n",
    "\n",
    "df_tmp = df.copy()\n",
    "\n",
    "# use a general index to share embedding layer\n",
    "index = 0\n",
    "for n, object_attribute in tqdm(enumerate(names), total=len(names)):\n",
    "    obj0 = f\"{object_attribute}0\"\n",
    "    obj1 = f\"{object_attribute}1\"\n",
    "    obj0_post = f\"post_{object_attribute}0\"\n",
    "    obj1_post = f\"post_{object_attribute}1\"\n",
    "    \n",
    "    # get all possible categories for this attribute\n",
    "    categories = set(df[obj0].unique()).union(set(df[obj1].unique())).union(set(df[obj0_post].unique())).union(set(df[obj1_post].unique()))\n",
    "    \n",
    "    index_to_category = {} \n",
    "    category_to_index = {}\n",
    "    for category in categories:\n",
    "        index_to_category[index] = category\n",
    "        category_to_index[category] = index\n",
    "        index += 1\n",
    "    \n",
    "    object_mapper[n] = category_to_index\n",
    "    reverse_object_mapper[n] = index_to_category\n",
    "\n",
    "    df_tmp[obj0] = df[obj0].map(category_to_index)\n",
    "    obj0_attributes_pre.append(obj0)\n",
    "    \n",
    "    df_tmp[obj1] = df[obj1].map(category_to_index)\n",
    "    obj1_attributes_pre.append(obj1)\n",
    "    \n",
    "    df_tmp[obj0_post] = df[obj0_post].map(category_to_index)\n",
    "    obj0_attributes_post.append(obj0_post)\n",
    "\n",
    "    df_tmp[obj1_post] = df[obj1_post].map(category_to_index)\n",
    "    obj1_attributes_post.append(obj1_post)\n",
    "    "
   ]
  },
  {
   "cell_type": "code",
   "execution_count": 19,
   "id": "ac3e5bd0-81ca-42a9-8936-da07699245b1",
   "metadata": {},
   "outputs": [
    {
     "data": {
      "text/plain": [
       "{243: 0, 244: 1, 245: 2, 246: 3, 247: 4, 248: 5, 249: 6, 250: 7}"
      ]
     },
     "execution_count": 19,
     "metadata": {},
     "output_type": "execute_result"
    }
   ],
   "source": [
    "reverse_object_mapper[3]"
   ]
  },
  {
   "cell_type": "code",
   "execution_count": 20,
   "id": "caba64a3-0169-487b-8aa8-4e1980056222",
   "metadata": {},
   "outputs": [],
   "source": [
    "action_mapper = {}\n",
    "reverse_action_mapper = {}\n",
    "\n",
    "index = 0\n",
    "# for n, action in tqdm(enumerate(action_columns), total=3):\n",
    "action_categories = set(df['Action0'].unique())\n",
    "index_to_category = {} \n",
    "category_to_index = {}\n",
    "for category in action_categories:\n",
    "    index_to_category[index] = category\n",
    "    category_to_index[category] = index\n",
    "    index += 1\n",
    "\n",
    "action_mapper = category_to_index\n",
    "reverse_action_mapper = index_to_category\n",
    "df_tmp['Action0'] = df['Action0'].map(category_to_index)\n",
    "    \n",
    "action_columns = ['ActionObject', 'ActionReceptacle']\n",
    "for action_argument in action_columns:\n",
    "    df_tmp[action_argument] = df[action_argument].map(object_mapper[0])    "
   ]
  },
  {
   "cell_type": "code",
   "execution_count": 54,
   "id": "8af5f6bc-8f3f-4fd6-a637-0d0a616923a8",
   "metadata": {},
   "outputs": [],
   "source": [
    "import pickle\n",
    "\n",
    "with open(\"data/reverse_object_mapping_full.pkl\", \"wb\") as f:\n",
    "    pickle.dump(reverse_object_mapper, f)\n",
    "\n",
    "with open(\"data/reverse_action_mapping_full.pkl\", \"wb\") as f:\n",
    "    pickle.dump(reverse_action_mapper, f)"
   ]
  },
  {
   "cell_type": "code",
   "execution_count": 6,
   "id": "40bde89f",
   "metadata": {},
   "outputs": [],
   "source": [
    "import pickle\n",
    "with open(\"data/reverse_object_mapping_full.pkl\", \"rb\") as f:\n",
    "    r = pickle.load(f)"
   ]
  },
  {
   "cell_type": "code",
   "execution_count": 21,
   "id": "9f2275d6-5ff8-4508-a419-f6c690cc5572",
   "metadata": {},
   "outputs": [
    {
     "ename": "NameError",
     "evalue": "name 'reverse_object_mapper' is not defined",
     "output_type": "error",
     "traceback": [
      "\u001b[0;31m---------------------------------------------------------------------------\u001b[0m",
      "\u001b[0;31mNameError\u001b[0m                                 Traceback (most recent call last)",
      "Input \u001b[0;32mIn [21]\u001b[0m, in \u001b[0;36m<module>\u001b[0;34m\u001b[0m\n\u001b[0;32m----> 1\u001b[0m \u001b[43mreverse_object_mapper\u001b[49m\n",
      "\u001b[0;31mNameError\u001b[0m: name 'reverse_object_mapper' is not defined"
     ]
    }
   ],
   "source": [
    "reverse_object_mapper"
   ]
  },
  {
   "cell_type": "code",
   "execution_count": 22,
   "id": "ce66afcc-4f94-4eb3-a238-de58275de6ad",
   "metadata": {},
   "outputs": [
    {
     "data": {
      "text/plain": [
       "55"
      ]
     },
     "execution_count": 22,
     "metadata": {},
     "output_type": "execute_result"
    }
   ],
   "source": [
    "none_object_index = object_mapper[0][\"None\"]\n",
    "none_object_index"
   ]
  },
  {
   "cell_type": "code",
   "execution_count": 149,
   "id": "d99d56d9-5fc1-4391-a3cf-8b7eadfe2196",
   "metadata": {},
   "outputs": [],
   "source": [
    "# clean_val_df[clean_val_df[\"index\"] == 3]"
   ]
  },
  {
   "cell_type": "code",
   "execution_count": null,
   "id": "dc8caebe",
   "metadata": {},
   "outputs": [],
   "source": []
  },
  {
   "cell_type": "code",
   "execution_count": 150,
   "id": "569a18cf-4600-4aa3-999c-4bdd6099d7be",
   "metadata": {},
   "outputs": [],
   "source": [
    "# set(clean_val_df[\"index\"].unique()) - img_indexes\n"
   ]
  },
  {
   "cell_type": "code",
   "execution_count": null,
   "id": "9db1142a-783e-4270-b3e0-aec08115332e",
   "metadata": {},
   "outputs": [],
   "source": [
    "# reverse_action_mapper -> embedding size: 329\n",
    "# reverse_object_mapper -> embedding size: 10\n",
    "# none_object_index -> 102 (this is the embedding that should be masked to zero)"
   ]
  },
  {
   "cell_type": "code",
   "execution_count": 23,
   "id": "f213c3b9-af11-456b-9868-83df7c522689",
   "metadata": {},
   "outputs": [],
   "source": [
    "# put action name and arg inside same vector \n",
    "# NOTE that the ActionObject and ActionReceptacle are embedded using their respective object index\n",
    "action_columns = [\"Action0\", 'ActionObject', 'ActionReceptacle']"
   ]
  },
  {
   "cell_type": "code",
   "execution_count": 24,
   "id": "08da2314-e9d8-400e-a0d1-552c52c65062",
   "metadata": {},
   "outputs": [],
   "source": [
    "import numpy as np\n",
    "\n",
    "objects_train = np.stack([df_tmp[df_tmp.train == 1][obj0_attributes_pre].values,\n",
    "                          df_tmp[df_tmp.train == 1][obj1_attributes_pre].values,\n",
    "                          df_tmp[df_tmp.train == 1][obj0_attributes_post].values,\n",
    "                          df_tmp[df_tmp.train == 1][obj1_attributes_post].values], axis=1)\n",
    "\n",
    "objects_val = np.stack([df_tmp[df_tmp.train == 0][obj0_attributes_pre].values,\n",
    "                        df_tmp[df_tmp.train == 0][obj1_attributes_pre].values,\n",
    "                        df_tmp[df_tmp.train == 0][obj0_attributes_post].values,\n",
    "                        df_tmp[df_tmp.train == 0][obj1_attributes_post].values], axis=1)\n",
    "\n",
    "action_train = df_tmp[df_tmp.train == 1][action_columns].values\n",
    "action_val = df_tmp[df_tmp.train == 0][action_columns].values\n",
    "\n",
    "assert action_train.shape[0] == objects_train.shape[0]\n",
    "assert action_val.shape[0] == objects_val.shape[0]"
   ]
  },
  {
   "cell_type": "code",
   "execution_count": 31,
   "id": "bc1681ba-0220-4e27-bc7e-d8bccc156090",
   "metadata": {},
   "outputs": [
    {
     "data": {
      "text/plain": [
       "(278009, 4, 38)"
      ]
     },
     "execution_count": 31,
     "metadata": {},
     "output_type": "execute_result"
    }
   ],
   "source": [
    "# objects_train.shape"
   ]
  },
  {
   "cell_type": "code",
   "execution_count": 32,
   "id": "16affb8b-716e-4271-a96d-84c93f9a5cfc",
   "metadata": {},
   "outputs": [],
   "source": [
    "# Save vectors to numpy arrays\n",
    "np.save(\"data/img_indices_train_full.npy\", train_df[\"index\"].values)\n",
    "np.save(\"data/img_indices_val_full.npy\", val_df[\"index\"].values)\n",
    "np.save(\"data/objects_train_full.npy\", objects_train)\n",
    "np.save(\"data/objects_val_full.npy\", objects_val)\n",
    "np.save(\"data/actions_train_full.npy\", action_train)\n",
    "np.save(\"data/actions_val_full.npy\", action_val)"
   ]
  },
  {
   "cell_type": "code",
   "execution_count": 114,
   "id": "c296a804-591c-4f95-aaf1-2207a537327d",
   "metadata": {},
   "outputs": [
    {
     "data": {
      "text/plain": [
       "312051"
      ]
     },
     "execution_count": 114,
     "metadata": {},
     "output_type": "execute_result"
    }
   ],
   "source": [
    "len(df_tmp)"
   ]
  },
  {
   "cell_type": "code",
   "execution_count": 50,
   "id": "d77b1583-8a79-45d2-befe-9da723682df9",
   "metadata": {},
   "outputs": [
    {
     "data": {
      "text/plain": [
       "array([[ 2, 33, 55],\n",
       "       [ 5, 65, 55],\n",
       "       [ 0, 65, 55],\n",
       "       ...,\n",
       "       [ 3, 83, 55],\n",
       "       [12, 55, 55],\n",
       "       [ 6, 88, 55]])"
      ]
     },
     "execution_count": 50,
     "metadata": {},
     "output_type": "execute_result"
    }
   ],
   "source": [
    "np.load(\"data/annotated/actions_train_full.npy\", allow_pickle=False)"
   ]
  },
  {
   "cell_type": "markdown",
   "id": "2ff9d1ce-9d56-425b-9527-56a8f73cf8a9",
   "metadata": {},
   "source": [
    "#### Save annotated set vectors"
   ]
  },
  {
   "cell_type": "code",
   "execution_count": 39,
   "id": "c729def7-564e-4930-818c-61fb0b680ed4",
   "metadata": {},
   "outputs": [],
   "source": [
    "annotated_objects_train = np.stack([df_tmp[df_tmp[\"split\"] == \"train\"][obj0_attributes_pre].values,\n",
    "                                        df_tmp[df_tmp[\"split\"] == \"train\"][obj1_attributes_pre].values,\n",
    "                                        df_tmp[df_tmp[\"split\"] == \"train\"][obj0_attributes_post].values,\n",
    "                                        df_tmp[df_tmp[\"split\"] == \"train\"][obj1_attributes_post].values], axis=1)\n",
    "\n",
    "annotated_objects_val = np.stack([df_tmp[df_tmp[\"split\"] == \"val\"][obj0_attributes_pre].values,\n",
    "                                        df_tmp[df_tmp[\"split\"] == \"val\"][obj1_attributes_pre].values,\n",
    "                                        df_tmp[df_tmp[\"split\"] == \"val\"][obj0_attributes_post].values,\n",
    "                                        df_tmp[df_tmp[\"split\"] == \"val\"][obj1_attributes_post].values], axis=1)\n",
    "\n",
    "annotated_objects_test = np.stack([df_tmp[df_tmp[\"split\"] == \"test\"][obj0_attributes_pre].values,\n",
    "                                        df_tmp[df_tmp[\"split\"] == \"test\"][obj1_attributes_pre].values,\n",
    "                                        df_tmp[df_tmp[\"split\"] == \"test\"][obj0_attributes_post].values,\n",
    "                                        df_tmp[df_tmp[\"split\"] == \"test\"][obj1_attributes_post].values], axis=1)\n",
    "\n",
    "annotated_action_train = df_tmp[df_tmp[\"split\"] == \"train\"][action_columns].values\n",
    "annotated_action_val = df_tmp[df_tmp[\"split\"] == \"val\"][action_columns].values\n",
    "annotated_action_test = df_tmp[df_tmp[\"split\"] == \"test\"][action_columns].values"
   ]
  },
  {
   "cell_type": "code",
   "execution_count": 45,
   "id": "38a0fd3c-79ac-4b0e-8dc2-0ace978eff39",
   "metadata": {},
   "outputs": [],
   "source": [
    "# save precondition text for all three annotators for train/val/test\n",
    "np.save(\"data/annotated/precondition_language_train_full.npy\", df_tmp[df_tmp[\"split\"] == \"train\"][[f\"annotator{i}_precondition_language\" for i in range(3)]].values)\n",
    "np.save(\"data/annotated/precondition_language_val_full.npy\", df_tmp[df_tmp[\"split\"] == \"val\"][[f\"annotator{i}_precondition_language\" for i in range(3)]].values)\n",
    "np.save(\"data/annotated/precondition_language_test_full.npy\", df_tmp[df_tmp[\"split\"] == \"test\"][[f\"annotator{i}_precondition_language\" for i in range(3)]].values)\n",
    "\n",
    "# save action text for all three annotators for train/val/test\n",
    "np.save(\"data/annotated/action_language_train_full.npy\", df_tmp[df_tmp[\"split\"] == \"train\"][[f\"annotator{i}_action_language\" for i in range(3)]].values)\n",
    "np.save(\"data/annotated/action_language_val_full.npy\", df_tmp[df_tmp[\"split\"] == \"val\"][[f\"annotator{i}_action_language\" for i in range(3)]].values)\n",
    "np.save(\"data/annotated/action_language_test_full.npy\", df_tmp[df_tmp[\"split\"] == \"test\"][[f\"annotator{i}_action_language\" for i in range(3)]].values)\n",
    "\n",
    "# save postcondition text for all three annotators for train/val/test\n",
    "np.save(\"data/annotated/postcondition_language_train_full.npy\", df_tmp[df_tmp[\"split\"] == \"train\"][[f\"annotator{i}_postcondition_language\" for i in range(3)]].values)\n",
    "np.save(\"data/annotated/postcondition_language_val_full.npy\", df_tmp[df_tmp[\"split\"] == \"val\"][[f\"annotator{i}_postcondition_language\" for i in range(3)]].values)\n",
    "np.save(\"data/annotated/postcondition_language_test_full.npy\", df_tmp[df_tmp[\"split\"] == \"test\"][[f\"annotator{i}_postcondition_language\" for i in range(3)]].values)"
   ]
  },
  {
   "cell_type": "code",
   "execution_count": 43,
   "id": "824c2b4e-1b4f-4d08-92aa-8e88a94f1e41",
   "metadata": {},
   "outputs": [],
   "source": [
    "# save image indices\n",
    "np.save(\"data/annotated/img_indices_train_full.npy\", df_tmp[df_tmp[\"split\"] == \"train\"][\"index\"].values)\n",
    "np.save(\"data/annotated/img_indices_val_full.npy\", df_tmp[df_tmp[\"split\"] == \"val\"][\"index\"].values)\n",
    "np.save(\"data/annotated/img_indices_test_full.npy\", df_tmp[df_tmp[\"split\"] == \"test\"][\"index\"].values)\n",
    "\n",
    "# save vectors for objects and actions\n",
    "np.save(\"data/annotated/objects_train_full.npy\", annotated_objects_train)\n",
    "np.save(\"data/annotated/objects_val_full.npy\", annotated_objects_val)\n",
    "np.save(\"data/annotated/objects_test_full.npy\", annotated_objects_test)\n",
    "np.save(\"data/annotated/actions_train_full.npy\", annotated_action_train)\n",
    "np.save(\"data/annotated/actions_val_full.npy\", annotated_action_val)\n",
    "np.save(\"data/annotated/actions_test_full.npy\", annotated_action_test)"
   ]
  },
  {
   "cell_type": "code",
   "execution_count": 122,
   "id": "f5b3a258-8086-49b7-88d3-8474ef2a81d8",
   "metadata": {},
   "outputs": [
    {
     "data": {
      "text/plain": [
       "(500, 2)"
      ]
     },
     "execution_count": 122,
     "metadata": {},
     "output_type": "execute_result"
    }
   ],
   "source": [
    "annotated_action_val.shape"
   ]
  },
  {
   "cell_type": "code",
   "execution_count": null,
   "id": "fe4b7db9-aaba-49e1-9fb7-53f055261145",
   "metadata": {},
   "outputs": [],
   "source": [
    "# Cleanup unused images\n",
    "# train_indices = set(train_df[\"index\"].values)\n",
    "# files = glob.glob(\"data/train/*\")\n",
    "# for file in tqdm(files):\n",
    "#     if int(file.split(\"/\")[-1]) not in train_indices:\n",
    "#         shutil.rmtree(file)\n",
    "\n",
    "# val_indices = set(val_df[\"index\"].values)\n",
    "# files = glob.glob(\"data/val/*\")\n",
    "# for file in tqdm(files):\n",
    "#     if int(file.split(\"/\")[-1]) not in val_indices:\n",
    "#         shutil.rmtree(file)"
   ]
  },
  {
   "cell_type": "markdown",
   "id": "3db00471-965c-400d-9b24-e45be96ba70d",
   "metadata": {},
   "source": [
    "# Calculate Image statistics"
   ]
  },
  {
   "cell_type": "code",
   "execution_count": null,
   "id": "d57aaa7e-36c9-4aee-aa26-cba8f6f2c389",
   "metadata": {},
   "outputs": [],
   "source": [
    "all_images = glob.glob(\"data/train/*/*.jpeg\") + glob.glob(\"data/annotated/*/*/*.jpeg\") + glob.glob(\"data/val/*/*.jpeg\")"
   ]
  },
  {
   "cell_type": "code",
   "execution_count": null,
   "id": "8d49eb6f",
   "metadata": {},
   "outputs": [],
   "source": [
    "import matplotlib.pyplot as plt\n",
    "import torch\n",
    "\n",
    "MEAN = torch.tensor([0.49458119, 0.43375753, 0.34601003])\n",
    "STD = torch.tensor([0.19409628, 0.19771467, 0.19638838])\n",
    "\n",
    "\n",
    "def normalize_image(image):\n",
    "    normed = torch.from_numpy(image).clone()\n",
    "    normed = normed.permute(-1, 0, 1)\n",
    "    normed = (normed - MEAN[:, None, None]) / STD[:, None, None]\n",
    "    return normed\n",
    "\n",
    "\n",
    "def denormalize_image(image):\n",
    "    denormed = image * STD[:, None, None] + MEAN[:, None, None]\n",
    "    denormed = denormed.permute(1, 2, 0)\n",
    "    return denormed\n",
    "\n",
    "\n",
    "unnorm_1 = (np.asarray(Image.open(\"data/train/1/0.jpeg\"))/255)\n",
    "plt.imshow(unnorm_1)\n",
    "plt.show()\n",
    "\n",
    "norm_1 = normalize_image(unnorm_1)\n",
    "norm_1_channel_last = norm_1.permute(1, 2, 0)\n",
    "plt.imshow(norm_1_channel_last)\n",
    "plt.show()\n",
    "\n",
    "norm_1_channel_last.min()\n",
    "unnorm_1 = denormalize_image(norm_1)\n",
    "plt.imshow(unnorm_1)\n",
    "plt.show()"
   ]
  },
  {
   "cell_type": "code",
   "execution_count": null,
   "id": "ae29bbb5",
   "metadata": {},
   "outputs": [],
   "source": [
    "from PIL import Image\n",
    "\n",
    "channels_psum = np.zeros(3)\n",
    "channels_psum_sq = np.zeros(3)\n",
    "for image in tqdm(all_images):\n",
    "    arr = np.asarray(Image.open(image)) / 255\n",
    "    channels_psum += arr.sum((0,1))\n",
    "    channels_psum_sq += (arr ** 2).sum((0,1))\n",
    "    \n",
    "count = 384*640*len(all_images)\n",
    "total_mean = channels_psum / count\n",
    "total_std = np.sqrt(channels_psum_sq / count - total_mean ** 2)"
   ]
  },
  {
   "cell_type": "code",
   "execution_count": 51,
   "id": "27954877-5a42-43cd-9af2-61e5c772667c",
   "metadata": {},
   "outputs": [
    {
     "data": {
      "text/plain": [
       "239392"
      ]
     },
     "execution_count": 51,
     "metadata": {},
     "output_type": "execute_result"
    }
   ],
   "source": [
    "np.load(\"data/objects_train.npy\").shape[0] #+ np.load(\"data/objects_val.npy\").shape[0]"
   ]
  },
  {
   "cell_type": "markdown",
   "id": "b42f5705-660a-42fd-9a1c-cd9e3f39ee00",
   "metadata": {},
   "source": [
    "# Zero Shot"
   ]
  },
  {
   "cell_type": "code",
   "execution_count": 482,
   "id": "6968248a-c804-47f9-9755-857ad10917b9",
   "metadata": {},
   "outputs": [],
   "source": [
    "# actions_train = np.concatenate((np.load(\"data/actions_train.npy\"), np.load(\"data/annotated/actions_train.npy\")), axis=0)\n",
    "# actions_train = np.load(\"data/actions_train.npy\")\n",
    "# actions_test = np.load(\"data/annotated/actions_test.npy\")"
   ]
  },
  {
   "cell_type": "code",
   "execution_count": 2,
   "id": "e722c845-8903-4e45-be00-3103daf9505e",
   "metadata": {},
   "outputs": [
    {
     "data": {
      "text/plain": [
       "array([[ 2, 33, 55],\n",
       "       [ 5, 65, 55],\n",
       "       [ 0, 65, 55],\n",
       "       ...,\n",
       "       [ 3, 83, 55],\n",
       "       [12, 55, 55],\n",
       "       [ 6, 88, 55]])"
      ]
     },
     "execution_count": 2,
     "metadata": {},
     "output_type": "execute_result"
    }
   ],
   "source": [
    "import numpy as np\n",
    "np.load(\"data/annotated/actions_train_full.npy\")"
   ]
  },
  {
   "cell_type": "code",
   "execution_count": 575,
   "id": "6d34a4bb-030a-4f6a-9b33-5c21347fc83f",
   "metadata": {},
   "outputs": [],
   "source": [
    "from collections import Counter, defaultdict\n",
    "import pickle \n",
    "\n",
    "# action_mapping = pickle.load(open(\"data/reverse_action_mapping.pkl\", \"rb\"))\n",
    "# object_mapping = pickle.load(open(\"data/reverse_object_mapping.pkl\", \"rb\"))\n",
    "\n",
    "# def action_triplet_to_string(action_triplet):\n",
    "#     return action_mapping[action_triplet[0]], object_mapping[0][action_triplet[1]], object_mapping[0][action_triplet[2]]\n",
    "\n",
    "# action_triplets_train = []\n",
    "# action_triplets_test = []\n",
    "\n",
    "# for action_triplet in actions_train:\n",
    "#     act = action_triplet_to_string(action_triplet)\n",
    "#     action_triplets_train.append({\"action\": act[0], \"object_0\": act[1], \"object_1\": act[2], \"arr\": action_triplet})\n",
    "    \n",
    "# for action_triplet in actions_test:\n",
    "#     act = action_triplet_to_string(action_triplet)\n",
    "#     action_triplets_test.append({\"action\": act[0], \"object_0\": act[1], \"object_1\": act[2], \"arr\": action_triplet})"
   ]
  },
  {
   "cell_type": "code",
   "execution_count": 647,
   "id": "6e439b80-06d9-41d1-97be-af96829b128c",
   "metadata": {},
   "outputs": [
    {
     "data": {
      "text/plain": [
       "27"
      ]
     },
     "execution_count": 647,
     "metadata": {},
     "output_type": "execute_result"
    }
   ],
   "source": [
    "# train_df = pd.DataFrame(action_triplets_train)\n",
    "# test_df = pd.DataFrame(action_triplets_test)\n",
    "len(hold_out_action_object_pairs)"
   ]
  },
  {
   "cell_type": "code",
   "execution_count": 577,
   "id": "014e70d7-e2f3-4d82-9129-a905806091ba",
   "metadata": {},
   "outputs": [],
   "source": [
    "# 3401 examples\n",
    "hold_out_objects = ['HandTowel', 'Towel', 'Plunger', 'Watch', 'CD', 'SoapBottle',\n",
    "                   'Pen', 'RemoteControl', 'SoapBar', 'Box', 'Bottle', 'CreditCard',\n",
    "                   'Statue', 'KeyChain']\n",
    "\n",
    "# 3278 examples\n",
    "hold_out_action_object_pairs = [('CloseObject', 'Toilet'),\n",
    "                                 ('DirtyObject', 'Pan'),\n",
    "                                 ('DirtyObject', 'Pot'),\n",
    "                                 ('EmptyLiquidFromObject', 'Bottle'),\n",
    "                                 ('EmptyLiquidFromObject', 'Pot'),\n",
    "                                 ('OpenObject', 'Toilet'),\n",
    "                                 ('PickupObject', 'Box'),\n",
    "                                 ('PickupObject', 'CellPhone'),\n",
    "                                 ('PickupObject', 'CreditCard'),\n",
    "                                 ('PickupObject', 'KeyChain'),\n",
    "                                 ('PutObject', 'CD'),\n",
    "                                 ('PutObject', 'CreditCard'),\n",
    "                                 ('PutObject', 'HandTowel'),\n",
    "                                 ('PutObject', 'Laptop'),\n",
    "                                 ('PutObject', 'Lettuce'),\n",
    "                                 ('PutObject', 'Pen'),\n",
    "                                 ('PutObject', 'Plunger'),\n",
    "                                 ('PutObject', 'Pot'),\n",
    "                                 ('PutObject', 'RemoteControl'),\n",
    "                                 ('PutObject', 'SoapBar'),\n",
    "                                 ('PutObject', 'SoapBottle'),\n",
    "                                 ('PutObject', 'Statue'),\n",
    "                                 ('PutObject', 'ToiletPaper'),\n",
    "                                 ('PutObject', 'Towel'),\n",
    "                                 ('PutObject', 'Watch'),\n",
    "                                 ('ToggleObjectOff', 'CellPhone'),\n",
    "                                 ('ToggleObjectOff', 'Television')]"
   ]
  },
  {
   "cell_type": "code",
   "execution_count": 533,
   "id": "261ee555-083b-4fb6-bb0e-7ea9a8c620ac",
   "metadata": {},
   "outputs": [],
   "source": [
    "# set(hold_out_action_object_pairs)"
   ]
  },
  {
   "cell_type": "code",
   "execution_count": 578,
   "id": "7079c184-e7f9-4f75-bc13-9800c6857daa",
   "metadata": {},
   "outputs": [],
   "source": [
    "# c = 0\n",
    "# for o in hold_out_objects:\n",
    "#     c += len(train_df[(train_df[\"object_0\"] == o)])\n",
    "# print(c)\n",
    "# indices = []\n",
    "# for pair in hold_out_action_object_pairs:\n",
    "#     if pair[1] in hold_out_objects:\n",
    "#         continue\n",
    "#     c += len(train_df[(train_df[\"action\"] == pair[0])&(train_df[\"object_0\"] == pair[1])])\n",
    "#     indices += list(train_df[(train_df[\"action\"] == pair[0])&(train_df[\"object_0\"] == pair[1])].index.values)\n",
    "# print(c)"
   ]
  },
  {
   "cell_type": "code",
   "execution_count": 579,
   "id": "96260f11-4883-4f2d-948c-5313637a3e81",
   "metadata": {},
   "outputs": [],
   "source": [
    "# len(indices)"
   ]
  },
  {
   "cell_type": "code",
   "execution_count": 585,
   "id": "d68228c0-4417-4f96-a2f2-6dd229a7eb67",
   "metadata": {},
   "outputs": [],
   "source": [
    "# excluded_triplets\n",
    "obj_name_to_index = dict(zip(object_mapping[0].values(), object_mapping[0].keys()))\n",
    "act_name_to_index = dict(zip(action_mapping.values(), action_mapping.keys()))\n",
    "\n",
    "holdout_objects_indexes = np.array([obj_name_to_index[obj] for obj in hold_out_objects])\n",
    "holdout_objects_pairs_indexes = np.array([[act_name_to_index[a], obj_name_to_index[o]] for a, o in hold_out_action_object_pairs])"
   ]
  },
  {
   "cell_type": "code",
   "execution_count": 565,
   "id": "c69340d6-4143-44b3-b740-ea19e7751da9",
   "metadata": {},
   "outputs": [
    {
     "name": "stdout",
     "output_type": "stream",
     "text": [
      "Excluding 739 examples for data/val\n",
      "Excluding 6767 examples for data/train\n",
      "Excluding 22 examples for data/annotated/val\n",
      "Excluding 49 examples for data/annotated/train\n"
     ]
    }
   ],
   "source": [
    "for annotated in [False, True]:\n",
    "    for split in [\"val\", \"train\"]:\n",
    "        base_path = f\"data\"\n",
    "        if annotated:\n",
    "            base_path += \"/annotated\"\n",
    "        \n",
    "        img_indices_path = f\"{base_path}/img_indices_{split}.npy\"\n",
    "        actions_path = f\"{base_path}/actions_{split}.npy\"\n",
    "        objects_path = f\"{base_path}/objects_{split}.npy\"\n",
    "\n",
    "        img_indices = np.load(img_indices_path)\n",
    "        actions = np.load(actions_path)\n",
    "        objects = np.load(objects_path)\n",
    "\n",
    "        holdout_objects = (actions[:, 1].reshape(-1, 1) == holdout_objects_indexes.reshape(1, -1)).any(1)\n",
    "        holdout_pairs = (actions[:, :2].reshape(-1, 1,  2) == holdout_objects_pairs_indexes.reshape(1, -1, 2)).all(axis=2).any(axis=1)\n",
    "        keep = ~(holdout_objects|holdout_pairs)\n",
    "        print(f\"Excluding {sum(keep == False)} examples for {base_path}/{split}\", )\n",
    "\n",
    "        img_indices = img_indices[keep]\n",
    "        actions = actions[keep]\n",
    "        objects = objects[keep]"
   ]
  },
  {
   "cell_type": "code",
   "execution_count": 584,
   "id": "11f0df47-141c-4c81-8012-2a77b9d66c56",
   "metadata": {},
   "outputs": [
    {
     "name": "stdout",
     "output_type": "stream",
     "text": [
      "data/annotated/actions_test.npy\n",
      "42\n",
      "0.10552763819095477\n"
     ]
    }
   ],
   "source": [
    "split = \"test\"\n",
    "actions_path = f\"{base_path}/actions_{split}.npy\"\n",
    "\n",
    "print(actions_path)\n",
    "actions = np.load(actions_path)\n",
    "\n",
    "holdout_objects = (actions[:, 1].reshape(-1, 1) == np.array(holdout_objects_indexes).reshape(1, -1)).any(1)\n",
    "holdout_pairs = (actions[:, :2].reshape(-1, 1,  2) == np.array(holdout_objects_pairs_indexes).reshape(1, -1, 2)).all(axis=2).any(axis=1)\n",
    "zero_shot = holdout_objects|holdout_pairs\n",
    "\n",
    "print(zero_shot.sum())\n",
    "print(zero_shot.sum()/actions.shape[0])\n",
    "\n",
    "np.save(f\"{base_path}/zero_shot_test.npy\", zero_shot)"
   ]
  },
  {
   "cell_type": "code",
   "execution_count": 51,
   "id": "beffa886-8a17-4768-a828-617818e70e8e",
   "metadata": {},
   "outputs": [
    {
     "data": {
      "text/plain": [
       "240"
      ]
     },
     "execution_count": 51,
     "metadata": {},
     "output_type": "execute_result"
    }
   ],
   "source": [
    "# zero_shot.sum\n",
    "import numpy as np\n",
    "import pickle\n",
    "\n",
    "\n",
    "# self.object_attributes_idx_to_mapper = get_objects_mapper(data_dir_path)\n",
    "\n",
    "with open(f\"data/reverse_object_mapping.pkl\", \"rb\") as f:\n",
    "    # select first index since the first index is the objet name encoded as an int\n",
    "    object_mapper =  pickle.load(f)\n",
    "    \n",
    "# object_mapper\n",
    "# list(object_mapper[idx].values())\n",
    "\n",
    "# min_idx = list(object_mapper[idx].keys())[0]\n",
    "# class_names = list(object_mapper[idx].values())\n",
    "# print(f\"object_attribute_name: {object_attribute_name}\")\n",
    "# print(f\"idx: {idx}\")\n",
    "# print(f\"min_idx: {min_idx}\")\n",
    "# print(f\"class_names: {class_names}\")\n",
    "# print(f\"preds: {preds[:, idx].numpy()}\")\n",
    "# print(f\"y_true: {labels[:, idx].numpy()}\")\n",
    "\n",
    "list(object_mapper[3].keys())[0]\n",
    "\n",
    "# object_attribute_name: distance\n",
    "# idx: 3\n",
    "# min_idx: 240\n",
    "# class_names: [0, 1, 2, 3, 4, 5, 6, 7]\n",
    "# preds: [243 245 243 ... 246 245 243]\n",
    "# y_true: [248 247 244 ... 247 247 247]\n",
    "\n",
    "# np.load(\"data/annotated/seen_test.npy\").shape\n",
    "\n",
    "# np.load(\"data/annotated/actions_test.npy\").shape[0]\n",
    "# np.ones(398).astype(bool)"
   ]
  },
  {
   "cell_type": "code",
   "execution_count": 53,
   "id": "e0b06334-7e3c-40ed-b835-2062c8a68e82",
   "metadata": {},
   "outputs": [
    {
     "data": {
      "text/plain": [
       "243"
      ]
     },
     "execution_count": 53,
     "metadata": {},
     "output_type": "execute_result"
    }
   ],
   "source": [
    "np.load(\"data/objects_train_full.npy\")[:,:,3].min()"
   ]
  },
  {
   "cell_type": "code",
   "execution_count": 586,
   "id": "de5fde44-bbe2-4b3f-8f61-993cbeb273f8",
   "metadata": {},
   "outputs": [],
   "source": [
    "obj_name_to_index = dict(zip(object_mapping[0].values(), object_mapping[0].keys()))"
   ]
  },
  {
   "cell_type": "code",
   "execution_count": 616,
   "id": "b443d541-bb34-45bd-ae95-08c5209d0500",
   "metadata": {},
   "outputs": [
    {
     "data": {
      "text/html": [
       "<div>\n",
       "<style scoped>\n",
       "    .dataframe tbody tr th:only-of-type {\n",
       "        vertical-align: middle;\n",
       "    }\n",
       "\n",
       "    .dataframe tbody tr th {\n",
       "        vertical-align: top;\n",
       "    }\n",
       "\n",
       "    .dataframe thead th {\n",
       "        text-align: right;\n",
       "    }\n",
       "</style>\n",
       "<table border=\"1\" class=\"dataframe\">\n",
       "  <thead>\n",
       "    <tr style=\"text-align: right;\">\n",
       "      <th></th>\n",
       "      <th>Actual</th>\n",
       "      <th>Predicted</th>\n",
       "      <th>_defaultColorIndex</th>\n",
       "      <th>id</th>\n",
       "      <th>nPredictions</th>\n",
       "      <th>name</th>\n",
       "    </tr>\n",
       "  </thead>\n",
       "  <tbody>\n",
       "    <tr>\n",
       "      <th>0</th>\n",
       "      <td>0</td>\n",
       "      <td>0</td>\n",
       "      <td>8</td>\n",
       "      <td>42_2xl68fp3</td>\n",
       "      <td>0</td>\n",
       "      <td>images_fuse_h64_l3_42_nlu</td>\n",
       "    </tr>\n",
       "    <tr>\n",
       "      <th>1</th>\n",
       "      <td>0</td>\n",
       "      <td>1</td>\n",
       "      <td>8</td>\n",
       "      <td>42_2xl68fp3</td>\n",
       "      <td>0</td>\n",
       "      <td>images_fuse_h64_l3_42_nlu</td>\n",
       "    </tr>\n",
       "    <tr>\n",
       "      <th>2</th>\n",
       "      <td>0</td>\n",
       "      <td>2</td>\n",
       "      <td>8</td>\n",
       "      <td>42_2xl68fp3</td>\n",
       "      <td>0</td>\n",
       "      <td>images_fuse_h64_l3_42_nlu</td>\n",
       "    </tr>\n",
       "    <tr>\n",
       "      <th>3</th>\n",
       "      <td>0</td>\n",
       "      <td>3</td>\n",
       "      <td>8</td>\n",
       "      <td>42_2xl68fp3</td>\n",
       "      <td>0</td>\n",
       "      <td>images_fuse_h64_l3_42_nlu</td>\n",
       "    </tr>\n",
       "    <tr>\n",
       "      <th>4</th>\n",
       "      <td>0</td>\n",
       "      <td>4</td>\n",
       "      <td>8</td>\n",
       "      <td>42_2xl68fp3</td>\n",
       "      <td>0</td>\n",
       "      <td>images_fuse_h64_l3_42_nlu</td>\n",
       "    </tr>\n",
       "    <tr>\n",
       "      <th>...</th>\n",
       "      <td>...</td>\n",
       "      <td>...</td>\n",
       "      <td>...</td>\n",
       "      <td>...</td>\n",
       "      <td>...</td>\n",
       "      <td>...</td>\n",
       "    </tr>\n",
       "    <tr>\n",
       "      <th>59</th>\n",
       "      <td>7</td>\n",
       "      <td>3</td>\n",
       "      <td>8</td>\n",
       "      <td>42_2xl68fp3</td>\n",
       "      <td>1</td>\n",
       "      <td>images_fuse_h64_l3_42_nlu</td>\n",
       "    </tr>\n",
       "    <tr>\n",
       "      <th>60</th>\n",
       "      <td>7</td>\n",
       "      <td>4</td>\n",
       "      <td>8</td>\n",
       "      <td>42_2xl68fp3</td>\n",
       "      <td>1</td>\n",
       "      <td>images_fuse_h64_l3_42_nlu</td>\n",
       "    </tr>\n",
       "    <tr>\n",
       "      <th>61</th>\n",
       "      <td>7</td>\n",
       "      <td>5</td>\n",
       "      <td>8</td>\n",
       "      <td>42_2xl68fp3</td>\n",
       "      <td>2</td>\n",
       "      <td>images_fuse_h64_l3_42_nlu</td>\n",
       "    </tr>\n",
       "    <tr>\n",
       "      <th>62</th>\n",
       "      <td>7</td>\n",
       "      <td>6</td>\n",
       "      <td>8</td>\n",
       "      <td>42_2xl68fp3</td>\n",
       "      <td>0</td>\n",
       "      <td>images_fuse_h64_l3_42_nlu</td>\n",
       "    </tr>\n",
       "    <tr>\n",
       "      <th>63</th>\n",
       "      <td>7</td>\n",
       "      <td>7</td>\n",
       "      <td>8</td>\n",
       "      <td>42_2xl68fp3</td>\n",
       "      <td>4</td>\n",
       "      <td>images_fuse_h64_l3_42_nlu</td>\n",
       "    </tr>\n",
       "  </tbody>\n",
       "</table>\n",
       "<p>64 rows × 6 columns</p>\n",
       "</div>"
      ],
      "text/plain": [
       "    Actual  Predicted  _defaultColorIndex           id  nPredictions  \\\n",
       "0        0          0                   8  42_2xl68fp3             0   \n",
       "1        0          1                   8  42_2xl68fp3             0   \n",
       "2        0          2                   8  42_2xl68fp3             0   \n",
       "3        0          3                   8  42_2xl68fp3             0   \n",
       "4        0          4                   8  42_2xl68fp3             0   \n",
       "..     ...        ...                 ...          ...           ...   \n",
       "59       7          3                   8  42_2xl68fp3             1   \n",
       "60       7          4                   8  42_2xl68fp3             1   \n",
       "61       7          5                   8  42_2xl68fp3             2   \n",
       "62       7          6                   8  42_2xl68fp3             0   \n",
       "63       7          7                   8  42_2xl68fp3             4   \n",
       "\n",
       "                         name  \n",
       "0   images_fuse_h64_l3_42_nlu  \n",
       "1   images_fuse_h64_l3_42_nlu  \n",
       "2   images_fuse_h64_l3_42_nlu  \n",
       "3   images_fuse_h64_l3_42_nlu  \n",
       "4   images_fuse_h64_l3_42_nlu  \n",
       "..                        ...  \n",
       "59  images_fuse_h64_l3_42_nlu  \n",
       "60  images_fuse_h64_l3_42_nlu  \n",
       "61  images_fuse_h64_l3_42_nlu  \n",
       "62  images_fuse_h64_l3_42_nlu  \n",
       "63  images_fuse_h64_l3_42_nlu  \n",
       "\n",
       "[64 rows x 6 columns]"
      ]
     },
     "execution_count": 616,
     "metadata": {},
     "output_type": "execute_result"
    }
   ],
   "source": [
    "import seaborn as sns\n",
    "\n",
    "df = pd.read_csv(\"~/Downloads/aaa.csv\")\n",
    "df"
   ]
  },
  {
   "cell_type": "code",
   "execution_count": 633,
   "id": "4ca4cb00-1e3e-4ac3-8c6d-f190cfe47317",
   "metadata": {},
   "outputs": [],
   "source": [
    "cf_matrix = np.zeros((8,8))\n",
    "for i, row in df.iterrows():\n",
    "    cf_matrix[row[\"Actual\"],row[\"Predicted\"]] = row[\"nPredictions\"]\n",
    "    \n",
    "cf_matrix = cf_matrix[1:,1:]"
   ]
  },
  {
   "cell_type": "code",
   "execution_count": 645,
   "id": "50f6732c-db41-4fc3-8b92-bdcafac8ff3d",
   "metadata": {},
   "outputs": [
    {
     "data": {
      "image/png": "[encoded data removed]",
      "text/plain": [
       "<Figure size 432x432 with 1 Axes>"
      ]
     },
     "metadata": {
      "needs_background": "light"
     },
     "output_type": "display_data"
    }
   ],
   "source": [
    "import seaborn as sns\n",
    "\n",
    "fig = plt.gcf()\n",
    "fig.set_size_inches(6, 6)\n",
    "sns.set_context(\"paper\")\n",
    "\n",
    "group_counts = [\"{0:0.0f}\".format(value) for value in cf_matrix.flatten()]\n",
    "group_percentages = [\"{0:.2%}\".format(value) for value in cf_matrix.flatten()/np.sum(cf_matrix)]\n",
    "\n",
    "labels = [f\"{v1}\\n{v2}\" for v1, v2 in\n",
    "      zip(group_counts,group_percentages)]\n",
    "\n",
    "labels = np.asarray(labels).reshape(cf_matrix.shape)\n",
    "\n",
    "sns.heatmap(cf_matrix, annot=labels, fmt='', cmap='Blues', cbar=False, annot_kws={\"size\": 14})\n",
    "plt.title(\"Confusion Matrix for distance\", fontsize=16)\n",
    "plt.xlabel(\"Predicted label\", fontsize=16)\n",
    "plt.ylabel(\"True label\", fontsize=16)\n",
    "plt.tick_params(labelsize=16)\n",
    "plt.tight_layout()\n",
    "plt.savefig(\"distance.png\", dpi=300)\n",
    "# plt.show()"
   ]
  },
  {
   "cell_type": "code",
   "execution_count": null,
   "id": "e66890ad-a031-4f7d-bb2e-19c3c6f581c5",
   "metadata": {},
   "outputs": [],
   "source": [
    "object_mapping"
   ]
  },
  {
   "cell_type": "code",
   "execution_count": 649,
   "id": "0f8a94ab-7ae6-4121-86e1-3a0d1301899d",
   "metadata": {},
   "outputs": [],
   "source": [
    "df = pd.read_csv(\"piglet_train.csv\")"
   ]
  },
  {
   "cell_type": "code",
   "execution_count": 654,
   "id": "de68264f-75a7-42e2-a21b-649aabb92795",
   "metadata": {},
   "outputs": [
    {
     "data": {
      "text/plain": [
       "4    94461\n",
       "3    61080\n",
       "2    46786\n",
       "5    36595\n",
       "1    31566\n",
       "7     3911\n",
       "6     3587\n",
       "0       23\n",
       "Name: distance0, dtype: int64"
      ]
     },
     "execution_count": 654,
     "metadata": {},
     "output_type": "execute_result"
    }
   ],
   "source": [
    "df[\"distance0\"].value_counts()"
   ]
  },
  {
   "cell_type": "code",
   "execution_count": null,
   "id": "63f1edd3-3e6a-4062-a6cb-0e05b5c457bc",
   "metadata": {},
   "outputs": [],
   "source": []
  }
 ],
 "metadata": {
  "interpreter": {
   "hash": "b10fccac95882d786ab3b514f693eb0985db25808b52f4156dc2bb4315fa1cbb"
  },
  "kernelspec": {
   "display_name": "Python 3 (ipykernel)",
   "language": "python",
   "name": "python3"
  },
  "language_info": {
   "codemirror_mode": {
    "name": "ipython",
    "version": 3
   },
   "file_extension": ".py",
   "mimetype": "text/x-python",
   "name": "python",
   "nbconvert_exporter": "python",
   "pygments_lexer": "ipython3",
   "version": "3.8.12"
  }
 },
 "nbformat": 4,
 "nbformat_minor": 5
}
