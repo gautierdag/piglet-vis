{
 "cells": [
  {
   "cell_type": "code",
   "execution_count": 1,
   "id": "f40448fd-9c31-4f0d-8b32-45fcd47603b0",
   "metadata": {},
   "outputs": [],
   "source": [
    "import torch\n",
    "# import matplotlib\n",
    "# matplotlib.use('Agg')\n",
    "import matplotlib.pyplot as plt\n",
    "import numpy as np\n",
    "\n",
    "from PIL import Image\n",
    "# from dataset import PigPenDataset"
   ]
  },
  {
   "cell_type": "code",
   "execution_count": null,
   "id": "5a560b91-6736-4115-87ca-3a884808bfd9",
   "metadata": {},
   "outputs": [],
   "source": [
    "# dataset = PigPenDataset(data_dir_path=\"../data/annotated\", images=True, annotations=True)"
   ]
  },
  {
   "cell_type": "code",
   "execution_count": 3,
   "id": "a9a853e9",
   "metadata": {},
   "outputs": [],
   "source": [
    "import numpy as np\n",
    "from hog.models.mappings import get_actions_mapper, get_objects_mapper\n",
    "\n",
    "data_dir_path = \"data/annotated\"\n",
    "data_split = \"test\"\n",
    "\n",
    "objects = np.load(\"data/annotated/objects_test.npy\")\n",
    "actions = np.load(\"data/annotated/actions_test.npy\")\n",
    "seen_matrix = np.load(\"data/annotated/seen_test.npy\")\n",
    "\n",
    "precondition_text = np.load(\n",
    "    f\"{data_dir_path}/precondition_language_{data_split}.npy\",\n",
    "    allow_pickle=True,\n",
    ")\n",
    "action_text = np.load(\n",
    "    f\"{data_dir_path}/action_language_{data_split}.npy\", allow_pickle=True\n",
    ")\n",
    "postcondition_text = np.load(\n",
    "    f\"{data_dir_path}/postcondition_language_{data_split}.npy\",\n",
    "    allow_pickle=True,\n",
    ")\n",
    "\n",
    "action_idx_to_name = get_actions_mapper(\"data\")\n",
    "object_attributes_idx_to_mapper = get_objects_mapper(\"data\")\n",
    "\n",
    "image_indices_file = f\"{data_dir_path}/img_indices_{data_split}.npy\"\n",
    "image_indices = np.load(image_indices_file)"
   ]
  },
  {
   "cell_type": "code",
   "execution_count": 4,
   "id": "1016554c",
   "metadata": {},
   "outputs": [
    {
     "data": {
      "text/plain": [
       "(398,)"
      ]
     },
     "execution_count": 4,
     "metadata": {},
     "output_type": "execute_result"
    }
   ],
   "source": [
    "objects.shape\n",
    "actions.shape\n",
    "seen_matrix.shape"
   ]
  },
  {
   "cell_type": "code",
   "execution_count": 5,
   "id": "9348b878",
   "metadata": {},
   "outputs": [
    {
     "name": "stdout",
     "output_type": "stream",
     "text": [
      "['The robot is standing next to an open cabinet.'\n",
      " 'There is an empty open cabinet.'\n",
      " 'The cabinet is open and taking up more space.']\n",
      "['The robot closes the cabinet.' 'The robot closes the cabinet'\n",
      " 'The robot closes the cabinet.']\n",
      "['The cabinet is now closed, taking up less space.'\n",
      " 'The cabinet is now closed and takes up less space'\n",
      " 'The cabinet is now closed and taking up less space.']\n"
     ]
    }
   ],
   "source": [
    "print(precondition_text[9])\n",
    "print(action_text[9])\n",
    "print(postcondition_text[9])"
   ]
  },
  {
   "cell_type": "code",
   "execution_count": 6,
   "id": "77d514a4",
   "metadata": {},
   "outputs": [
    {
     "name": "stdout",
     "output_type": "stream",
     "text": [
      "Cabinet\n",
      "Sink\n"
     ]
    }
   ],
   "source": [
    "for o in objects[9][:,0][[1,2]]:\n",
    "    print(object_attributes_idx_to_mapper[0][o])"
   ]
  },
  {
   "cell_type": "code",
   "execution_count": 7,
   "id": "ed547741",
   "metadata": {},
   "outputs": [
    {
     "data": {
      "text/plain": [
       "763"
      ]
     },
     "execution_count": 7,
     "metadata": {},
     "output_type": "execute_result"
    }
   ],
   "source": [
    "image_indices[9]"
   ]
  },
  {
   "cell_type": "code",
   "execution_count": 8,
   "id": "cc671691-5b07-47bb-a663-9fe35a94e027",
   "metadata": {},
   "outputs": [],
   "source": [
    "import numpy as np\n",
    "from PIL import Image\n",
    "\n",
    "import matplotlib.colors as mcolors\n",
    "from matplotlib.backends.backend_agg import FigureCanvasAgg as FigureCanvas\n",
    "from matplotlib.figure import Figure\n",
    "\n",
    "def get_cmap(cm=\"jet\", N=256):\n",
    "    colors = getattr(plt.cm, cm)(np.linspace(0,1,N))\n",
    "    transparent_hot_colors = []\n",
    "    for c, t in zip(colors, np.linspace(0,1,N)):\n",
    "        transparent_hot_colors.append(c)\n",
    "        transparent_hot_colors[-1][-1] = t\n",
    "    return mcolors.LinearSegmentedColormap.from_list('hot', transparent_hot_colors, N=N)\n",
    "\n",
    "def calculate_attention_weights_per_pixel(bboxes, scores):\n",
    "    attention_weights = torch.zeros(384, 640, 1)\n",
    "    for box, score in zip(bboxes, scores):\n",
    "        x_min, y_min, x_max, y_max = box\n",
    "        attention_weights[y_min:y_max, x_min:x_max] += score\n",
    "    return attention_weights\n",
    "\n",
    "\n",
    "def imshow_with_attention_overlay(ax, image, bboxes, scores):\n",
    "    attention_weights = calculate_attention_weights_per_pixel(bboxes, scores)\n",
    "    ax.imshow(image)\n",
    "    ax.imshow(attention_weights, cmap=get_cmap())\n",
    "    \n",
    "    \n",
    "def turn_off_axis(ax):\n",
    "    ax.get_xaxis().set_ticks([])\n",
    "    ax.get_yaxis().set_ticks([])\n",
    "    ax.spines['top'].set_visible(False)\n",
    "    ax.spines['right'].set_visible(False)\n",
    "    ax.spines['bottom'].set_visible(False)\n",
    "    ax.spines['left'].set_visible(False)\n",
    "    \n",
    "def plot_effect_grid(images, bboxes, scores, objects):\n",
    "    dpi = 100\n",
    "    sizes = np.shape(images[0])\n",
    "    fig, axs  = plt.subplots(2,2, figsize=((sizes[1]/dpi)*2, (sizes[0]/dpi)*2), dpi=dpi)\n",
    "    canvas = FigureCanvas(fig)\n",
    "    caption_dict = {0: \"Before\", 1: \"After\"}\n",
    "    for i in range(2):\n",
    "        for o in range(2):\n",
    "            if i == 0:\n",
    "                axs[i][o].set_title(f\"{objects[0]}\")\n",
    "            if o == 0:\n",
    "                axs[i][o].set_ylabel(caption_dict[i])\n",
    "\n",
    "            turn_off_axis(axs[i][o])\n",
    "            imshow_with_attention_overlay(axs[i][o], images[i], bboxes[i], scores[i][o])\n",
    "\n",
    "    plt.subplots_adjust(wspace=0, hspace=0)\n",
    "\n",
    "    canvas.draw()\n",
    "\n",
    "    image_from_plot = np.frombuffer(canvas.tostring_rgb(), dtype=np.uint8)\n",
    "    image_from_plot = image_from_plot.reshape(canvas.get_width_height()[::-1] + (3,))\n",
    "    \n",
    "    return image_from_plot\n",
    "\n"
   ]
  },
  {
   "cell_type": "code",
   "execution_count": null,
   "id": "8fccec1d-d975-45be-92c5-a61c96f7bf69",
   "metadata": {},
   "outputs": [],
   "source": [
    "images, bboxes = dataset.get_images_and_bounding_boxes(0)\n",
    "scores = torch.randn(2, 2, 100).softmax(-1)\n",
    "arr = plot_effect_grid(images, bboxes, scores, [\"a\", \"B\"])\n",
    "# scores.shape\n"
   ]
  },
  {
   "cell_type": "code",
   "execution_count": null,
   "id": "d703bce4-2c54-4aae-9208-14989296ab76",
   "metadata": {},
   "outputs": [],
   "source": [
    "im = Image.fromarray(arr)\n",
    "im"
   ]
  },
  {
   "cell_type": "code",
   "execution_count": null,
   "id": "648cfd80",
   "metadata": {},
   "outputs": [],
   "source": [
    "import pandas as pd"
   ]
  },
  {
   "cell_type": "code",
   "execution_count": 15,
   "id": "b81ed834",
   "metadata": {},
   "outputs": [],
   "source": [
    "import pandas as pd \n",
    "import wandb\n",
    "\n",
    "api = wandb.Api()\n",
    "entity, project = \"itl\", \"hog\"  # set to your entity and project \n",
    "runs = api.runs(entity + \"/\" + project) \n",
    "\n",
    "summary_list, config_list, name_list = [], [], []\n",
    "for run in runs: \n",
    "    # .summary contains the output keys/values for metrics like accuracy.\n",
    "    #  We call ._json_dict to omit large files \n",
    "    summary_list.append(run.summary._json_dict)\n",
    "\n",
    "    # .config contains the hyperparameters.\n",
    "    #  We remove special values that start with _.\n",
    "    config_list.append(\n",
    "        {k: v for k,v in run.config.items()\n",
    "         if not k.startswith('_')})\n",
    "\n",
    "    # .name is the human-readable name of the run.\n",
    "    name_list.append(run.name)\n",
    "\n",
    "runs_df = pd.DataFrame({\n",
    "    \"summary\": summary_list,\n",
    "    \"config\": config_list,\n",
    "    \"name\": name_list\n",
    "    })\n",
    "\n",
    "# runs_df.to_csv(\"project.csv\")\n",
    "runs_df = pd.concat([runs_df, runs_df.summary.apply(pd.Series)], axis=1)\n",
    "runs_df = runs_df[runs_df.name.str.contains(\"_nlu\")]\n",
    "runs_df[\"run_group\"] = runs_df.name.apply(lambda x: x.split(\"_l3\")[0])\n",
    "# runs_df = runs_df.dropna()"
   ]
  },
  {
   "cell_type": "code",
   "execution_count": 17,
   "id": "58d04947",
   "metadata": {},
   "outputs": [],
   "source": [
    "# runs_df"
   ]
  },
  {
   "cell_type": "code",
   "execution_count": 18,
   "id": "afb1060d",
   "metadata": {},
   "outputs": [
    {
     "data": {
      "text/plain": [
       "array(['base+images+full_h64', 'base+symbolic+full_h64',\n",
       "       'base+images+text-labels+full_h64', 'base+images_h64',\n",
       "       'base+images+label-names_h64', 'base_h64', 'base+symbolic_h64',\n",
       "       'base+images+symbolic_h64', 'images_embed_names_h64',\n",
       "       'piglet_no_symbolic_h64', 'piglet_h64', 'images_fuse_h64'],\n",
       "      dtype=object)"
      ]
     },
     "execution_count": 18,
     "metadata": {},
     "output_type": "execute_result"
    }
   ],
   "source": [
    "runs_df[\"run_group\"].unique()"
   ]
  },
  {
   "cell_type": "code",
   "execution_count": 20,
   "id": "12f44c18",
   "metadata": {},
   "outputs": [],
   "source": [
    "def get_run_group_name(run_group):\n",
    "    if \"base+images+symbolic_\" in run_group:\n",
    "        return \"base+images+symbolic\"\n",
    "    elif \"images_embed\" in run_group:\n",
    "        return run_group\n",
    "    elif \"base+images+label-names_\" in run_group:\n",
    "        return \"base+images+text-labels\"\n",
    "    elif \"images_fuse\" in run_group:\n",
    "        return run_group\n",
    "    elif \"base+images_\" in run_group:\n",
    "        return \"base+images\"\n",
    "    elif \"piglet_no_symbolic\" in run_group or \"base_\" in run_group:\n",
    "        return \"base\"\n",
    "    elif \"piglet\" in run_group or \"base+symbolic_\" in run_group:\n",
    "        return \"base+symbolic\"\n",
    "    else:\n",
    "        return \"\"\n",
    "    raise ValueError(f\"Unknown run group: {run_group}\")\n",
    "\n",
    "runs_df[\"full\"] = runs_df[\"run_group\"].apply(lambda x: \"full\" in x)\n",
    "runs_df[\"run_group\"] = runs_df[\"run_group\"].apply(get_run_group_name)\n"
   ]
  },
  {
   "cell_type": "code",
   "execution_count": 22,
   "id": "1d30ba5e",
   "metadata": {},
   "outputs": [],
   "source": [
    "runs_df = runs_df[runs_df[\"run_group\"] != \"\"].copy().reset_index(drop=True)"
   ]
  },
  {
   "cell_type": "code",
   "execution_count": 23,
   "id": "a7106373",
   "metadata": {},
   "outputs": [],
   "source": [
    "order = [\n",
    " 'base',\n",
    " 'base+images',\n",
    " 'base+images+text-labels',\n",
    " 'base+symbolic',\n",
    " 'base+images+symbolic',\n",
    " ]"
   ]
  },
  {
   "cell_type": "code",
   "execution_count": 5,
   "id": "1af0f711",
   "metadata": {},
   "outputs": [
    {
     "data": {
      "image/png": "[encoded data removed]",
      "text/plain": [
       "<Figure size 432x288 with 1 Axes>"
      ]
     },
     "metadata": {
      "needs_background": "light"
     },
     "output_type": "display_data"
    },
    {
     "data": {
      "image/png": "[encoded data removed]",
      "text/plain": [
       "<Figure size 432x288 with 1 Axes>"
      ]
     },
     "metadata": {
      "needs_background": "light"
     },
     "output_type": "display_data"
    },
    {
     "data": {
      "image/png": "[encoded data removed]",
      "text/plain": [
       "<Figure size 432x288 with 1 Axes>"
      ]
     },
     "metadata": {
      "needs_background": "light"
     },
     "output_type": "display_data"
    },
    {
     "data": {
      "image/png": "[encoded data removed]",
      "text/plain": [
       "<Figure size 432x288 with 1 Axes>"
      ]
     },
     "metadata": {
      "needs_background": "light"
     },
     "output_type": "display_data"
    },
    {
     "data": {
      "image/png": "[encoded data removed]",
      "text/plain": [
       "<Figure size 432x288 with 1 Axes>"
      ]
     },
     "metadata": {
      "needs_background": "light"
     },
     "output_type": "display_data"
    },
    {
     "data": {
      "image/png": "[encoded data removed]",
      "text/plain": [
       "<Figure size 432x288 with 1 Axes>"
      ]
     },
     "metadata": {
      "needs_background": "light"
     },
     "output_type": "display_data"
    },
    {
     "data": {
      "image/png": "[encoded data removed]",
      "text/plain": [
       "<Figure size 432x288 with 1 Axes>"
      ]
     },
     "metadata": {
      "needs_background": "light"
     },
     "output_type": "display_data"
    },
    {
     "data": {
      "image/png": "[encoded data removed]",
      "text/plain": [
       "<Figure size 432x288 with 1 Axes>"
      ]
     },
     "metadata": {
      "needs_background": "light"
     },
     "output_type": "display_data"
    },
    {
     "data": {
      "image/png": "[encoded data removed]",
      "text/plain": [
       "<Figure size 432x288 with 1 Axes>"
      ]
     },
     "metadata": {
      "needs_background": "light"
     },
     "output_type": "display_data"
    },
    {
     "data": {
      "image/png": "[encoded data removed]",
      "text/plain": [
       "<Figure size 432x288 with 1 Axes>"
      ]
     },
     "metadata": {
      "needs_background": "light"
     },
     "output_type": "display_data"
    }
   ],
   "source": [
    "import matplotlib.pyplot as plt\n",
    "import seaborn as sns\n",
    "\n",
    "for n in runs_df.columns.values:\n",
    "  if \"test\" in n and \"Action Accuracy\" in n:\n",
    "    sns.boxplot(data=runs_df, \n",
    "                y=\"run_group\", x=n, \n",
    "                order=order)\n",
    "    t = n.split(\"_\")[-2]+\" \"+n.split(\"_\")[-1]\n",
    "    plt.title(t)\n",
    "    plt.xlabel(t)\n",
    "    plt.ylabel(\"\")\n",
    "    plt.show()"
   ]
  },
  {
   "cell_type": "code",
   "execution_count": 177,
   "id": "9d8127d4",
   "metadata": {},
   "outputs": [],
   "source": [
    "# runs_df.columns.values"
   ]
  },
  {
   "cell_type": "code",
   "execution_count": 6,
   "id": "e1e39a7f",
   "metadata": {},
   "outputs": [
    {
     "data": {
      "text/plain": [
       "base+images                10\n",
       "base+images+text-labels    10\n",
       "base                       10\n",
       "base+symbolic              10\n",
       "base+images+symbolic       10\n",
       "images_embed_names_h64      5\n",
       "images_fuse_h64             5\n",
       "Name: run_group, dtype: int64"
      ]
     },
     "execution_count": 6,
     "metadata": {},
     "output_type": "execute_result"
    }
   ],
   "source": [
    "runs_df.run_group.value_counts()"
   ]
  },
  {
   "cell_type": "code",
   "execution_count": 7,
   "id": "75081240",
   "metadata": {},
   "outputs": [
    {
     "name": "stdout",
     "output_type": "stream",
     "text": [
      "Accuracy/test_unseen_average_accuracy\n",
      "base+images: 0.0753+-0.0247\tbase+images+text-labels: 0.0890+-0.0308\n",
      "pvalue=0.3115146613296908\n",
      "Accuracy/test_average_accuracy\n",
      "base+images: 0.4547+-0.0143\tbase+images+text-labels: 0.4755+-0.0199\n",
      "pvalue=0.02015030932177231\n",
      "Action Accuracy/test_PickupObject_accuracy\n",
      "base+images: 0.3349+-0.0327\tbase+images+text-labels: 0.4012+-0.0247\n",
      "pvalue=0.00012834994535545151\n"
     ]
    }
   ],
   "source": [
    "from scipy import stats\n",
    "\n",
    "cols = [\"base+images\",  \"base+images+text-labels\"]\n",
    "vals = [\"Accuracy/test_unseen_average_accuracy\", \"Accuracy/test_average_accuracy\", 'Action Accuracy/test_PickupObject_accuracy']\n",
    "for v in vals:\n",
    "  a = runs_df[runs_df.run_group == cols[0]][v].values\n",
    "  b = runs_df[runs_df.run_group == cols[1]][v].values\n",
    "  print(v)\n",
    "  print(f\"{cols[0]}: {a.mean():.4f}+-{a.std():.4f}\\t{cols[1]}: {b.mean():.4f}+-{b.std():.4f}\")\n",
    "  print(f\"pvalue={stats.ttest_ind(a, b).pvalue}\")"
   ]
  },
  {
   "cell_type": "code",
   "execution_count": 24,
   "id": "14beb92b",
   "metadata": {},
   "outputs": [
    {
     "name": "stdout",
     "output_type": "stream",
     "text": [
      "Accuracy/test_unseen_average_accuracy\n",
      "base+images: 0.0753+-0.0247\tbase+images+text-labels: 0.0890+-0.0308\n",
      "pvalue=0.3115146613296908\n",
      "Accuracy/test_average_accuracy\n",
      "base+images: 0.4547+-0.0143\tbase+images+text-labels: 0.4755+-0.0199\n",
      "pvalue=0.02015030932177231\n",
      "Action Accuracy/test_SliceObject_accuracy\n",
      "base+images: 0.4164+-0.0361\tbase+images+text-labels: 0.4557+-0.0365\n",
      "pvalue=0.033631160886288175\n"
     ]
    }
   ],
   "source": [
    "from scipy import stats\n",
    "\n",
    "cols = [\"base+images\",  \"base+images+text-labels\"]\n",
    "vals = [\"Accuracy/test_unseen_average_accuracy\", \"Accuracy/test_average_accuracy\", 'Action Accuracy/test_SliceObject_accuracy']\n",
    "for v in vals:\n",
    "  a = runs_df[runs_df.run_group == cols[0]][v].values\n",
    "  b = runs_df[runs_df.run_group == cols[1]][v].values\n",
    "  print(v)\n",
    "  print(f\"{cols[0]}: {a.mean():.4f}+-{a.std():.4f}\\t{cols[1]}: {b.mean():.4f}+-{b.std():.4f}\")\n",
    "  print(f\"pvalue={stats.ttest_ind(a, b).pvalue}\")\n",
    "\n",
    "# atts_accs = sorted([r for r in list(runs_df.columns) if \"Attribute Accuracy/test_distance\" in r])\n",
    "# a = runs_df[runs_df.run_group == cols[0]][atts_accs].values.flatten()\n",
    "# b = runs_df[runs_df.run_group == cols[1]][atts_accs].values.flatten()\n",
    "# print(\"Attribute Accuracy\")\n",
    "# print(f\"{cols[0]}: {a.mean():.4f}+-{a.std():.4f}\\t{cols[1]}: {b.mean():.4f}+-{b.std():.4f}\")\n",
    "# print(f\"pvalue={stats.ttest_ind(a, b).pvalue}\")\n",
    "# act_accs = sorted([r for r in list(runs_df.columns) if \"Action Accuracy/test\" in r])\n",
    "# a = runs_df[runs_df.run_group == cols[0]][act_accs].values.flatten()\n",
    "# b = runs_df[runs_df.run_group == cols[1]][act_accs].values.flatten()\n",
    "# print(\"Action Accuracy\")\n",
    "# print(f\"{cols[0]}: {a.mean():.4f}+-{a.std():.4f}\\t{cols[1]}: {b.mean():.4f}+-{b.std():.4f}\")\n",
    "# print(f\"pvalue={stats.ttest_ind(a, b).pvalue}\") "
   ]
  },
  {
   "cell_type": "code",
   "execution_count": 25,
   "id": "07619364",
   "metadata": {},
   "outputs": [
    {
     "name": "stdout",
     "output_type": "stream",
     "text": [
      "Accuracy/test_unseen_average_accuracy\n",
      "base: 0.0534+-0.0263\tbase+images+text-labels: 0.0890+-0.0308\n",
      "pvalue=0.01669326647746051\n",
      "Accuracy/test_average_accuracy\n",
      "base: 0.2123+-0.0069\tbase+images+text-labels: 0.4755+-0.0199\n",
      "pvalue=1.5164232928297336e-18\n",
      "Action Accuracy/test_SliceObject_accuracy\n",
      "base: 0.2213+-0.0082\tbase+images+text-labels: 0.4557+-0.0365\n",
      "pvalue=2.808446783591938e-13\n"
     ]
    }
   ],
   "source": [
    "cols = [\"base\",  \"base+images+text-labels\"]\n",
    "vals = [\"Accuracy/test_unseen_average_accuracy\", \"Accuracy/test_average_accuracy\", 'Action Accuracy/test_SliceObject_accuracy']\n",
    "for v in vals:\n",
    "  a = runs_df[runs_df.run_group == cols[0]][v].values\n",
    "  b = runs_df[runs_df.run_group == cols[1]][v].values\n",
    "  print(v)\n",
    "  print(f\"{cols[0]}: {a.mean():.4f}+-{a.std():.4f}\\t{cols[1]}: {b.mean():.4f}+-{b.std():.4f}\")\n",
    "  print(f\"pvalue={stats.ttest_ind(a, b).pvalue}\")"
   ]
  },
  {
   "cell_type": "code",
   "execution_count": 9,
   "id": "87489994",
   "metadata": {},
   "outputs": [
    {
     "name": "stdout",
     "output_type": "stream",
     "text": [
      "Accuracy/test_unseen_average_accuracy\n",
      "base+symbolic: 0.3904+-0.0320\tbase+images+symbolic: 0.3589+-0.0329\n",
      "pvalue=0.054068795136908994\n",
      "Accuracy/test_average_accuracy\n",
      "base+symbolic: 0.8503+-0.0042\tbase+images+symbolic: 0.8601+-0.0084\n",
      "pvalue=0.006376151293233091\n",
      "Action Accuracy/test_PickupObject_accuracy\n",
      "base+symbolic: 0.8048+-0.0274\tbase+images+symbolic: 0.8614+-0.0242\n",
      "pvalue=0.000200838771823258\n"
     ]
    }
   ],
   "source": [
    "cols = [\"base+symbolic\",  \"base+images+symbolic\"]\n",
    "vals = [\"Accuracy/test_unseen_average_accuracy\", \"Accuracy/test_average_accuracy\", 'Action Accuracy/test_PickupObject_accuracy']\n",
    "for v in vals:\n",
    "  a = runs_df[runs_df.run_group == cols[0]][v].values\n",
    "  b = runs_df[runs_df.run_group == cols[1]][v].values\n",
    "  print(v)\n",
    "  print(f\"{cols[0]}: {a.mean():.4f}+-{a.std():.4f}\\t{cols[1]}: {b.mean():.4f}+-{b.std():.4f}\")\n",
    "  print(f\"pvalue={stats.ttest_ind(a, b).pvalue}\")"
   ]
  },
  {
   "cell_type": "markdown",
   "id": "64e348bd",
   "metadata": {},
   "source": [
    "# Tables "
   ]
  },
  {
   "cell_type": "markdown",
   "id": "17fd2239",
   "metadata": {},
   "source": [
    "## Overall Table"
   ]
  },
  {
   "cell_type": "code",
   "execution_count": 37,
   "id": "747f8da7",
   "metadata": {},
   "outputs": [
    {
     "name": "stdout",
     "output_type": "stream",
     "text": [
      "\\texttt{base}& $21.23\\pm0.72$& $5.34\\pm2.77$\\\\\n",
      "\\texttt{base+symbolic}& $85.03\\pm0.45$& $39.04\\pm3.37$\\\\\n",
      "\\texttt{base+images}& $45.47\\pm1.50$& $7.53\\pm2.60$\\\\\n",
      "\\texttt{base+images+symbolic}& $86.01\\pm0.89$& $35.89\\pm3.47$\\\\\n",
      "\\texttt{base+images+text-labels}& $47.55\\pm2.10$& $8.90\\pm3.24$\\\\\n"
     ]
    }
   ],
   "source": [
    "run_groups = [\"base\", \"base+symbolic\", \"base+images\",  \"base+images+symbolic\", \"base+images+text-labels\"]\n",
    "\n",
    "overall_accs = [\"Accuracy/test_average_accuracy\", \n",
    "                \"Accuracy/test_unseen_average_accuracy\"]\n",
    "\n",
    "for run_group in run_groups:\n",
    "  row = \"\\\\texttt{\"+ run_group +\"}\"\n",
    "  for acc in overall_accs:\n",
    "    avg_accuracy = \"{:.2f}\".format(runs_df[runs_df.run_group == run_group][acc].mean()*100)\n",
    "    std_accuracy = \"{:.2f}\".format(runs_df[runs_df.run_group == run_group][acc].std()*100)\n",
    "    row += f\"& ${avg_accuracy}\\pm{std_accuracy}$\"\n",
    "  row += \"\\\\\\\\\"\n",
    "  print(row)"
   ]
  },
  {
   "cell_type": "code",
   "execution_count": 12,
   "id": "6173802f",
   "metadata": {},
   "outputs": [
    {
     "name": "stdout",
     "output_type": "stream",
     "text": [
      "\\texttt{base}& $23.85\\pm0.95$& $21.23\\pm0.72$& $5.34\\pm2.77$\\\\\n",
      "\\texttt{base+symbolic}& $88.08\\pm0.50$& $85.03\\pm0.45$& $39.04\\pm3.37$\\\\\n",
      "\\texttt{base+images}& $50.73\\pm2.97$& $45.47\\pm1.50$& $7.53\\pm2.60$\\\\\n",
      "\\texttt{base+images+symbolic}& $89.49\\pm0.82$& $86.01\\pm0.89$& $35.89\\pm3.47$\\\\\n",
      "\\texttt{base+images+text-labels}& $53.33\\pm3.15$& $47.55\\pm2.10$& $8.90\\pm3.24$\\\\\n"
     ]
    }
   ],
   "source": [
    "run_groups = [\"base\", \"base+symbolic\", \"base+images\",  \"base+images+symbolic\", \"base+images+text-labels\"]\n",
    "\n",
    "overall_accs = [\"Accuracy/val_average_accuracy\", \n",
    "                \"Accuracy/test_average_accuracy\", \n",
    "                \"Accuracy/test_unseen_average_accuracy\"]\n",
    "\n",
    "for run_group in run_groups:\n",
    "  row = \"\\\\texttt{\"+ run_group +\"}\"\n",
    "  for acc in overall_accs:\n",
    "    avg_accuracy = \"{:.2f}\".format(runs_df[runs_df.run_group == run_group][acc].mean()*100)\n",
    "    std_accuracy = \"{:.2f}\".format(runs_df[runs_df.run_group == run_group][acc].std()*100)\n",
    "    row += f\"& ${avg_accuracy}\\pm{std_accuracy}$\"\n",
    "  row += \"\\\\\\\\\"\n",
    "  print(row)"
   ]
  },
  {
   "cell_type": "markdown",
   "id": "5b02d421",
   "metadata": {},
   "source": [
    "## Joint in-text table"
   ]
  },
  {
   "cell_type": "code",
   "execution_count": 38,
   "id": "0444a417",
   "metadata": {},
   "outputs": [
    {
     "name": "stdout",
     "output_type": "stream",
     "text": [
      "\\texttt{base}& $8.33$& $10.96$& $27.38$& $22.13$&& $73.78$& $51.01$& $95.91$\\\\\n",
      "\\texttt{base+symbolic}& $85.73$& $80.48$& $96.90$& $75.41$&& $94.98$& $95.13$& $99.85$\\\\\n",
      "\\texttt{base+images}& $20.83$& $33.49$& $70.24$& $41.64$&& $87.03$& $76.62$& $96.10$\\\\\n",
      "\\texttt{base+images+symbolic}& $88.75$& $86.14$& $92.86$& $81.31$&& $96.35$& $96.13$& $99.59$\\\\\n",
      "\\texttt{base+images+text-labels}& $22.92$& $40.12$& $67.14$& $45.57$&& $87.89$& $78.06$& $96.72$\\\\\n"
     ]
    }
   ],
   "source": [
    "attribute_accs = ['Attribute Accuracy/test_size_accuracy', \n",
    "                  'Attribute Accuracy/test_distance_accuracy',\n",
    "                  'Attribute Accuracy/test_ObjectTemperature_accuracy']\n",
    "\n",
    "action_accs =  ['Action Accuracy/test_OpenObject_accuracy',\n",
    "                'Action Accuracy/test_PickupObject_accuracy',\n",
    "                'Action Accuracy/test_ToggleObjectOn_accuracy',\n",
    "                'Action Accuracy/test_SliceObject_accuracy']\n",
    "              # 'Attribute Accuracy/test_mass_accuracy', \n",
    "              # 'Attribute Accuracy/test_ObjectTemperature_accuracy',\n",
    "              # 'Attribute Accuracy/test_breakable_accuracy',\n",
    "              # 'Attribute Accuracy/test_isBroken_accuracy']\n",
    "              \n",
    "for run_group in run_groups:\n",
    "  row = \"\\\\texttt{\"+ run_group +\"}\"\n",
    "  for acc in action_accs:\n",
    "    avg_accuracy = \"{:.2f}\".format(runs_df[runs_df.run_group == run_group][acc].mean()*100)\n",
    "    # std_accuracy = \"{:.2f}\".format(runs_df[runs_df.run_group == run_group][acc].std()*100)\n",
    "    # row += f\"& ${avg_accuracy}\\pm{std_accuracy}$\"\n",
    "    row += f\"& ${avg_accuracy}$\"\n",
    "  row += \"&\"\n",
    "  for acc in attribute_accs:\n",
    "    avg_accuracy = \"{:.2f}\".format(runs_df[runs_df.run_group == run_group][acc].mean()*100)\n",
    "    row += f\"& ${avg_accuracy}$\"\n",
    "  row += \"\\\\\\\\\"\n",
    "  print(row)\n",
    "  \n"
   ]
  },
  {
   "cell_type": "markdown",
   "id": "1e9bb69d",
   "metadata": {},
   "source": [
    "## Appendix Action Accs"
   ]
  },
  {
   "cell_type": "code",
   "execution_count": 40,
   "id": "62fbb683",
   "metadata": {},
   "outputs": [
    {
     "name": "stdout",
     "output_type": "stream",
     "text": [
      "&Close&Dirty&EmptyLiquid&HeatUpPan&Open\\\\\n",
      "\\texttt{base}& $13.20\\pm1.06$& $17.71\\pm1.20$& $24.75\\pm5.75$& $36.33\\pm4.14$& $8.33\\pm1.84$\\\\\n",
      "\\texttt{base+symbolic}& $85.98\\pm1.77$& $94.00\\pm3.42$& $99.34\\pm1.15$& $100.00\\pm0.00$& $85.73\\pm0.99$\\\\\n",
      "\\texttt{base+images}& $27.42\\pm3.71$& $58.57\\pm2.78$& $69.34\\pm4.17$& $68.67\\pm3.75$& $20.83\\pm4.63$\\\\\n",
      "\\texttt{base+images+symbolic}& $86.80\\pm3.29$& $90.29\\pm5.90$& $99.02\\pm2.07$& $99.17\\pm1.62$& $88.75\\pm3.02$\\\\\n",
      "\\texttt{base+images+text-labels}& $28.87\\pm3.19$& $57.71\\pm3.24$& $70.16\\pm3.17$& $74.00\\pm3.16$& $22.92\\pm5.79$\\\\\n",
      "&Pickup&Put&Slice&ToggleOff&ToggleOn\\\\\n",
      "\\texttt{base}& $10.96\\pm1.92$& $27.95\\pm1.19$& $22.13\\pm0.86$& $30.83\\pm3.39$& $27.38\\pm2.57$\\\\\n",
      "\\texttt{base+symbolic}& $80.48\\pm2.88$& $58.39\\pm1.94$& $75.41\\pm1.89$& $99.40\\pm0.84$& $96.90\\pm1.61$\\\\\n",
      "\\texttt{base+images}& $33.49\\pm3.45$& $34.91\\pm2.43$& $41.64\\pm3.80$& $71.43\\pm2.75$& $70.24\\pm16.00$\\\\\n",
      "\\texttt{base+images+symbolic}& $86.14\\pm2.56$& $57.59\\pm2.31$& $81.31\\pm3.96$& $99.05\\pm0.75$& $92.86\\pm5.14$\\\\\n",
      "\\texttt{base+images+text-labels}& $40.12\\pm2.61$& $38.30\\pm3.11$& $45.57\\pm3.85$& $69.05\\pm5.81$& $67.14\\pm16.53$\\\\\n"
     ]
    }
   ],
   "source": [
    "# base_image_symbols\n",
    "\n",
    "action_accs = sorted([r for r in list(runs_df.columns) if \"Action Accuracy/test\" in r])\n",
    "# # action_accs =  ['Action Accuracy/test_OpenObject_accuracy',\n",
    "#                 'Action Accuracy/test_PickupObject_accuracy',\n",
    "#                 'Action Accuracy/test_HeatUpPan_accuracy',\n",
    "#                 'Action Accuracy/test_SliceObject_accuracy']\n",
    "\n",
    "# print(action_accs)\n",
    "\n",
    "row = \"\"\n",
    "for a in action_accs[:5]:\n",
    "  row += \"&\" + a.split(\"_\")[-2].replace(\"Object\", \"\").replace(\"From\", \"\")\n",
    "row += \"\\\\\\\\\"\n",
    "print(row)\n",
    "for run_group in run_groups:\n",
    "  row = \"\\\\texttt{\"+ run_group +\"}\"\n",
    "  for acc in action_accs[:5]:\n",
    "    avg_accuracy = \"{:.2f}\".format(runs_df[runs_df.run_group == run_group][acc].mean()*100)\n",
    "    std_accuracy = \"{:.2f}\".format(runs_df[runs_df.run_group == run_group][acc].std()*100)\n",
    "    row += f\"& ${avg_accuracy}\\pm{std_accuracy}$\"\n",
    "  row += \"\\\\\\\\\"\n",
    "  print(row)\n",
    "\n",
    "row = \"\"\n",
    "for a in action_accs[5:]:\n",
    "  row += \"&\" + a.split(\"_\")[-2].replace(\"Object\", \"\").replace(\"From\", \"\")\n",
    "row += \"\\\\\\\\\"\n",
    "print(row)\n",
    "for run_group in run_groups:\n",
    "  row = \"\\\\texttt{\"+ run_group +\"}\"\n",
    "  for acc in action_accs[5:]:\n",
    "    avg_accuracy = \"{:.2f}\".format(runs_df[runs_df.run_group == run_group][acc].mean()*100)\n",
    "    std_accuracy = \"{:.2f}\".format(runs_df[runs_df.run_group == run_group][acc].std()*100)\n",
    "    row += f\"& ${avg_accuracy}\\pm{std_accuracy}$\"\n",
    "  row += \"\\\\\\\\\"\n",
    "  print(row)\n",
    "\n",
    "\n"
   ]
  },
  {
   "cell_type": "code",
   "execution_count": 41,
   "id": "36bb1996",
   "metadata": {},
   "outputs": [
    {
     "name": "stdout",
     "output_type": "stream",
     "text": [
      "&\\texttt{Name}&\\texttt{Temperature}&\\texttt{attribute}&\\texttt{breakable}&\\texttt{cookable}&\\texttt{dirtyable}&\\texttt{distance}&\\texttt{isBroken}&\\texttt{isCooked}&\\texttt{isDirty}\\\\\n",
      "\\texttt{base}& $99.66\\pm0.07$& $95.91\\pm0.41$& $96.12\\pm0.07$& $91.46\\pm0.36$& $99.95\\pm0.07$& $99.95\\pm0.10$& $51.01\\pm0.93$& $99.86\\pm0.00$& $98.60\\pm0.06$& $97.93\\pm0.19$\\\\\n",
      "\\texttt{base+symbolic}& $99.64\\pm0.12$& $99.85\\pm0.04$& $99.48\\pm0.03$& $99.84\\pm0.09$& $100.00\\pm0.00$& $100.00\\pm0.00$& $95.13\\pm0.35$& $100.00\\pm0.00$& $99.85\\pm0.04$& $99.71\\pm0.14$\\\\\n",
      "\\texttt{base+images}& $96.94\\pm0.48$& $96.10\\pm0.87$& $97.20\\pm0.15$& $92.59\\pm0.85$& $99.90\\pm0.07$& $99.71\\pm0.19$& $76.62\\pm0.89$& $99.85\\pm0.04$& $98.56\\pm0.23$& $98.00\\pm0.34$\\\\\n",
      "\\texttt{base+images+symbolic}& $99.62\\pm0.09$& $99.59\\pm0.27$& $99.48\\pm0.04$& $99.78\\pm0.10$& $100.00\\pm0.00$& $99.97\\pm0.09$& $96.13\\pm0.40$& $100.00\\pm0.00$& $99.85\\pm0.04$& $99.52\\pm0.32$\\\\\n",
      "\\texttt{base+images+text-labels}& $98.51\\pm0.28$& $96.72\\pm0.45$& $97.50\\pm0.13$& $93.13\\pm0.36$& $100.00\\pm0.00$& $99.95\\pm0.07$& $78.06\\pm1.28$& $99.81\\pm0.10$& $98.71\\pm0.23$& $97.81\\pm0.23$\\\\\n",
      "&\\texttt{isFilledWithLiquid}&\\texttt{isOpen}&\\texttt{isPickedUp}&\\texttt{isSliced}&\\texttt{isToggled}&\\texttt{mass}&\\texttt{moveable}&\\texttt{openable}&\\texttt{parentReceptacles}&\\texttt{pickupable}\\\\\n",
      "\\texttt{base}& $96.79\\pm0.50$& $98.84\\pm0.23$& $94.83\\pm0.82$& $97.99\\pm0.09$& $98.36\\pm0.23$& $96.51\\pm0.15$& $99.90\\pm0.09$& $99.97\\pm0.06$& $87.44\\pm0.42$& $99.84\\pm0.09$\\\\\n",
      "\\texttt{base+symbolic}& $99.93\\pm0.12$& $98.95\\pm0.09$& $99.27\\pm0.31$& $100.00\\pm0.00$& $99.88\\pm0.12$& $99.33\\pm0.14$& $99.99\\pm0.04$& $99.97\\pm0.06$& $97.78\\pm0.47$& $99.90\\pm0.11$\\\\\n",
      "\\texttt{base+images}& $97.09\\pm0.35$& $98.02\\pm2.31$& $97.25\\pm0.47$& $98.37\\pm0.34$& $98.19\\pm0.77$& $96.17\\pm0.42$& $99.84\\pm0.13$& $99.79\\pm0.15$& $90.92\\pm0.75$& $99.62\\pm0.26$\\\\\n",
      "\\texttt{base+images+symbolic}& $99.84\\pm0.19$& $98.67\\pm0.38$& $98.96\\pm0.31$& $99.97\\pm0.06$& $99.74\\pm0.30$& $99.59\\pm0.09$& $100.00\\pm0.00$& $99.99\\pm0.04$& $97.26\\pm0.44$& $99.88\\pm0.10$\\\\\n",
      "\\texttt{base+images+text-labels}& $97.22\\pm0.36$& $98.45\\pm1.08$& $97.51\\pm0.61$& $98.30\\pm0.38$& $98.02\\pm0.74$& $96.81\\pm0.33$& $99.93\\pm0.10$& $99.97\\pm0.09$& $92.39\\pm0.68$& $99.70\\pm0.09$\\\\\n",
      "&\\texttt{receptacleIds}&\\texttt{receptacle}&\\texttt{Ceramic}&\\texttt{Fabric}&\\texttt{Food}&\\texttt{Glass}&\\texttt{Leather}&\\texttt{Metal}&\\texttt{Paper}&\\texttt{Plastic}\\\\\n",
      "\\texttt{base}& $84.20\\pm0.61$& $99.85\\pm0.10$& $98.26\\pm0.17$& $99.55\\pm0.07$& $99.99\\pm0.04$& $98.91\\pm0.13$& $99.89\\pm0.06$& $98.69\\pm0.15$& $99.73\\pm0.00$& $98.30\\pm0.10$\\\\\n",
      "\\texttt{base+symbolic}& $96.36\\pm0.18$& $99.90\\pm0.09$& $100.00\\pm0.00$& $99.96\\pm0.07$& $100.00\\pm0.00$& $99.99\\pm0.04$& $100.00\\pm0.00$& $99.99\\pm0.04$& $100.00\\pm0.00$& $99.97\\pm0.06$\\\\\n",
      "\\texttt{base+images}& $82.64\\pm1.40$& $99.55\\pm0.18$& $99.21\\pm0.26$& $99.45\\pm0.19$& $99.92\\pm0.10$& $99.18\\pm0.17$& $99.95\\pm0.07$& $98.39\\pm0.41$& $99.70\\pm0.20$& $98.78\\pm0.25$\\\\\n",
      "\\texttt{base+images+symbolic}& $96.13\\pm0.30$& $99.92\\pm0.10$& $99.99\\pm0.04$& $99.85\\pm0.10$& $99.99\\pm0.04$& $99.97\\pm0.06$& $100.00\\pm0.00$& $100.00\\pm0.00$& $100.00\\pm0.00$& $99.96\\pm0.07$\\\\\n",
      "\\texttt{base+images+text-labels}& $83.89\\pm0.64$& $99.73\\pm0.09$& $99.33\\pm0.15$& $99.48\\pm0.11$& $100.00\\pm0.00$& $99.44\\pm0.23$& $99.95\\pm0.10$& $98.70\\pm0.29$& $99.58\\pm0.18$& $99.19\\pm0.27$\\\\\n",
      "&\\texttt{Rubber}&\\texttt{Soap}&\\texttt{Sponge}&\\texttt{Stone}&\\texttt{Wax}&\\texttt{Wood}&\\texttt{size}&\\texttt{sliceable}&\\texttt{toggleable}\\\\\n",
      "\\texttt{base}& $100.00\\pm0.00$& $99.99\\pm0.04$& $100.00\\pm0.00$& $99.34\\pm0.09$& $100.00\\pm0.00$& $99.51\\pm0.16$& $73.78\\pm0.29$& $98.02\\pm0.12$& $99.95\\pm0.07$\\\\\n",
      "\\texttt{base+symbolic}& $100.00\\pm0.00$& $100.00\\pm0.00$& $100.00\\pm0.00$& $99.99\\pm0.04$& $100.00\\pm0.00$& $99.99\\pm0.04$& $94.98\\pm0.19$& $100.00\\pm0.00$& $99.99\\pm0.04$\\\\\n",
      "\\texttt{base+images}& $99.88\\pm0.08$& $99.89\\pm0.11$& $99.92\\pm0.10$& $99.48\\pm0.14$& $99.92\\pm0.10$& $99.25\\pm0.22$& $87.03\\pm1.15$& $98.32\\pm0.32$& $99.81\\pm0.17$\\\\\n",
      "\\texttt{base+images+symbolic}& $99.97\\pm0.06$& $99.99\\pm0.04$& $100.00\\pm0.00$& $99.99\\pm0.04$& $100.00\\pm0.00$& $100.00\\pm0.00$& $96.35\\pm0.20$& $99.99\\pm0.04$& $99.96\\pm0.09$\\\\\n",
      "\\texttt{base+images+text-labels}& $99.85\\pm0.08$& $99.92\\pm0.10$& $99.88\\pm0.14$& $99.60\\pm0.19$& $99.95\\pm0.07$& $99.37\\pm0.22$& $87.89\\pm1.11$& $98.32\\pm0.36$& $99.95\\pm0.07$\\\\\n"
     ]
    }
   ],
   "source": [
    "atts_accs = sorted([r for r in list(runs_df.columns) if \"Attribute Accuracy/test\" in r])\n",
    "# # action_accs =  ['Action Accuracy/test_OpenObject_accuracy',\n",
    "#                 'Action Accuracy/test_PickupObject_accuracy',\n",
    "#                 'Action Accuracy/test_HeatUpPan_accuracy',\n",
    "#                 'Action Accuracy/test_SliceObject_accuracy']\n",
    "\n",
    "# print(action_accs)\n",
    "\n",
    "for i in range(0, len(atts_accs), 10):\n",
    "  row = \"\"\n",
    "  for a in atts_accs[i:i+10]:\n",
    "    row += \"&\\\\texttt{\" + a.split(\"_\")[-2].replace(\"Object\", \"\").replace(\"From\", \"\") + \"}\"\n",
    "  row += \"\\\\\\\\\"\n",
    "  print(row)\n",
    "  for run_group in run_groups:\n",
    "    row = \"\\\\texttt{\"+ run_group +\"}\"\n",
    "    for acc in atts_accs[i:i+10]:\n",
    "      avg_accuracy = \"{:.2f}\".format(runs_df[runs_df.run_group == run_group][acc].mean()*100)\n",
    "      std_accuracy = \"{:.2f}\".format(runs_df[runs_df.run_group == run_group][acc].std()*100)\n",
    "      row += f\"& ${avg_accuracy}\\pm{std_accuracy}$\"\n",
    "    row += \"\\\\\\\\\"\n",
    "    print(row)\n",
    "\n",
    "# row = \"\"\n",
    "# for a in action_accs[5:]:\n",
    "#   row += \"&\" + a.split(\"_\")[-2].replace(\"Object\", \"\").replace(\"From\", \"\")\n",
    "# row += \"\\\\\\\\\"\n",
    "# print(row)\n",
    "# for run_group in run_groups:\n",
    "#   row = \"\\\\texttt{\"+ run_group +\"}\"\n",
    "#   for acc in action_accs[5:]:\n",
    "#     avg_accuracy = \"{:.2f}\".format(runs_df[runs_df.run_group == run_group][acc].mean()*100)\n",
    "#     std_accuracy = \"{:.2f}\".format(runs_df[runs_df.run_group == run_group][acc].std()*100)\n",
    "#     row += f\"& ${avg_accuracy}\\pm{std_accuracy}$\"\n",
    "#   row += \"\\\\\\\\\"\n",
    "#   print(row)"
   ]
  },
  {
   "cell_type": "code",
   "execution_count": 128,
   "id": "21c695e0",
   "metadata": {},
   "outputs": [
    {
     "data": {
      "text/plain": [
       "['Action Accuracy/test_CloseObject_accuracy',\n",
       " 'Action Accuracy/test_DirtyObject_accuracy',\n",
       " 'Action Accuracy/test_EmptyLiquidFromObject_accuracy',\n",
       " 'Action Accuracy/test_HeatUpPan_accuracy',\n",
       " 'Action Accuracy/test_OpenObject_accuracy',\n",
       " 'Action Accuracy/test_PickupObject_accuracy',\n",
       " 'Action Accuracy/test_PutObject_accuracy',\n",
       " 'Action Accuracy/test_SliceObject_accuracy',\n",
       " 'Action Accuracy/test_ToggleObjectOff_accuracy',\n",
       " 'Action Accuracy/test_ToggleObjectOn_accuracy']"
      ]
     },
     "execution_count": 128,
     "metadata": {},
     "output_type": "execute_result"
    }
   ],
   "source": [
    "sorted([r for r in list(runs_df.columns) if \"Action Accuracy/test\" in r])"
   ]
  },
  {
   "cell_type": "code",
   "execution_count": 125,
   "id": "3a3ba71c",
   "metadata": {},
   "outputs": [],
   "source": []
  },
  {
   "cell_type": "code",
   "execution_count": null,
   "id": "c1a4c707",
   "metadata": {},
   "outputs": [],
   "source": [
    "&Close&Dirty&EmptyLiquid&HeatUpPan&Open&Pickup&Put&Slice&ToggleOff&ToggleOn\\\\"
   ]
  },
  {
   "cell_type": "code",
   "execution_count": null,
   "id": "5d62b176",
   "metadata": {},
   "outputs": [],
   "source": [
    "%%javascript\n",
    "IPython.OutputArea.prototype._should_scroll = function(lines) {\n",
    "    return false;\n",
    "}"
   ]
  },
  {
   "cell_type": "code",
   "execution_count": null,
   "id": "55fc7953",
   "metadata": {},
   "outputs": [],
   "source": []
  },
  {
   "cell_type": "code",
   "execution_count": null,
   "id": "66aec103",
   "metadata": {},
   "outputs": [],
   "source": []
  },
  {
   "cell_type": "code",
   "execution_count": null,
   "id": "691e8bf4",
   "metadata": {},
   "outputs": [],
   "source": []
  }
 ],
 "metadata": {
  "interpreter": {
   "hash": "7ab321860d6437dd68f9f1dad2f3d76edb8f5918d739f40d84bc0737383366fa"
  },
  "kernelspec": {
   "display_name": "Python 3.8.12 ('hog')",
   "language": "python",
   "name": "python3"
  },
  "language_info": {
   "codemirror_mode": {
    "name": "ipython",
    "version": 3
   },
   "file_extension": ".py",
   "mimetype": "text/x-python",
   "name": "python",
   "nbconvert_exporter": "python",
   "pygments_lexer": "ipython3",
   "version": "3.8.12 (default, Oct 12 2021, 06:23:56) \n[Clang 10.0.0 ]"
  }
 },
 "nbformat": 4,
 "nbformat_minor": 5
}
